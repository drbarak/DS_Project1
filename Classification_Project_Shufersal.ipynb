{
  "nbformat": 4,
  "nbformat_minor": 0,
  "metadata": {
    "colab": {
      "name": "Classification Project - Shufersal.ipynb",
      "provenance": [],
      "toc_visible": true,
      "include_colab_link": true
    },
    "kernelspec": {
      "name": "python3",
      "display_name": "Python 3"
    },
    "language_info": {
      "name": "python"
    }
  },
  "cells": [
    {
      "cell_type": "markdown",
      "metadata": {
        "id": "view-in-github",
        "colab_type": "text"
      },
      "source": [
        "<a href=\"https://colab.research.google.com/github/drbarak/DS_Project1/blob/main/Classification_Project_Shufersal.ipynb\" target=\"_parent\"><img src=\"https://colab.research.google.com/assets/colab-badge.svg\" alt=\"Open In Colab\"/></a>"
      ]
    },
    {
      "cell_type": "markdown",
      "metadata": {
        "id": "AsgFwVtRbySD"
      },
      "source": [
        "Classification Project\n",
        "\n",
        "for Shufersal on-line orders, for replacing of missing products, will predict the replacement success!"
      ]
    },
    {
      "cell_type": "code",
      "metadata": {
        "id": "yGba9FH7bxTM"
      },
      "source": [
        "import requests\n",
        "import pandas as pd\n",
        "import matplotlib.pyplot as plt\n",
        "import numpy as np\n",
        "\n",
        "from IPython.display import display\n",
        "p = print\n",
        "d = display"
      ],
      "execution_count": 106,
      "outputs": []
    },
    {
      "cell_type": "markdown",
      "metadata": {
        "id": "K5fip8cGHkql"
      },
      "source": [
        "# Get Data"
      ]
    },
    {
      "cell_type": "markdown",
      "metadata": {
        "id": "KWnIiiXgmFyP"
      },
      "source": [
        "## Raw Data"
      ]
    },
    {
      "cell_type": "markdown",
      "metadata": {
        "id": "GZFzr7XVD0DP"
      },
      "source": [
        "To run the raw section, one must load Sweets_ver2.csv to local google drive and change the next line to True"
      ]
    },
    {
      "cell_type": "code",
      "metadata": {
        "id": "UvzC3e_IDvSd"
      },
      "source": [
        "id = ''   # to identify results csv\n",
        "\n",
        "RAW = False\n",
        "DIFF = True\n",
        "RATIO = False\n",
        "REL = False"
      ],
      "execution_count": 107,
      "outputs": []
    },
    {
      "cell_type": "code",
      "metadata": {
        "id": "Sp4iGxceSita"
      },
      "source": [
        "def get_raw(fname):\n",
        "  data_url = 'https://github.com/DanielKorenDataScience/ClassificationProject/blob/main/' + fname + '.csv?raw=true'\n",
        "  resp = requests.get(data_url)\n",
        "  text = resp.text\n",
        "  \n",
        "  with open(fname + '.csv', 'w') as fh:\n",
        "    fh.write(text)"
      ],
      "execution_count": 108,
      "outputs": []
    },
    {
      "cell_type": "code",
      "metadata": {
        "id": "a4g1hSQGEQcR"
      },
      "source": [
        "def diff_list(li1, li2):\n",
        "  return [i for i in li1 + li2 if i not in li1 or i not in li2]"
      ],
      "execution_count": 109,
      "outputs": []
    },
    {
      "cell_type": "code",
      "metadata": {
        "id": "VoP0C8qFhCkD"
      },
      "source": [
        "if RAW:    \n",
        "  df1 = pd.read_csv('/content/drive/MyDrive/Sweets_ver2.csv', encoding='ISO-8859-8', nrows=1)\n",
        "  df2 = pd.read_csv('/content/drive/MyDrive/Sweets_ver2.csv', encoding='ISO-8859-8', usecols=[i for i in range(82) if not i in[0,8,10,12,14,16,18,20,24,26,27,48,50,52,54,56,58,62,64,65]])"
      ],
      "execution_count": 110,
      "outputs": []
    },
    {
      "cell_type": "code",
      "metadata": {
        "colab": {
          "base_uri": "https://localhost:8080/"
        },
        "id": "OoLJ64bX96dr",
        "outputId": "c8a174db-ccad-43b2-fc49-fe7abc9598f5"
      },
      "source": [
        "from google.colab import drive\n",
        "drive.mount('/content/drive')"
      ],
      "execution_count": 111,
      "outputs": [
        {
          "output_type": "stream",
          "text": [
            "Drive already mounted at /content/drive; to attempt to forcibly remount, call drive.mount(\"/content/drive\", force_remount=True).\n"
          ],
          "name": "stdout"
        }
      ]
    },
    {
      "cell_type": "code",
      "metadata": {
        "id": "RH3d6JNO-dlJ",
        "colab": {
          "base_uri": "https://localhost:8080/"
        },
        "outputId": "5e6b419e-f75d-43e2-ab86-6e4cb956a317"
      },
      "source": [
        "if RAW:\n",
        "  df1.info()"
      ],
      "execution_count": 112,
      "outputs": [
        {
          "output_type": "stream",
          "text": [
            "<class 'pandas.core.frame.DataFrame'>\n",
            "RangeIndex: 1 entries, 0 to 0\n",
            "Data columns (total 82 columns):\n",
            " #   Column                      Non-Null Count  Dtype  \n",
            "---  ------                      --------------  -----  \n",
            " 0   OrderNumbert                1 non-null      int64  \n",
            " 1   HouseHoldID                 1 non-null      int64  \n",
            " 2   LocationCityName            1 non-null      object \n",
            " 3   QuarterNumber               1 non-null      int64  \n",
            " 4   MonthNumber                 1 non-null      int64  \n",
            " 5   WeekNumber                  1 non-null      int64  \n",
            " 6   DayNumberInWeek             1 non-null      int64  \n",
            " 7   PeriodHoliday               1 non-null      object \n",
            " 8   TransactionDate             1 non-null      object \n",
            " 9   DepartmentCode              1 non-null      int64  \n",
            " 10  DepartmentName              1 non-null      object \n",
            " 11  CategoryCode                1 non-null      int64  \n",
            " 12  CategoryName                1 non-null      object \n",
            " 13  GroupCode                   1 non-null      int64  \n",
            " 14  GroupName                   1 non-null      object \n",
            " 15  SubGroupCode                1 non-null      int64  \n",
            " 16  SubGroupName                1 non-null      object \n",
            " 17  CompoundID                  1 non-null      int64  \n",
            " 18  CompoundIDDesc              1 non-null      object \n",
            " 19  ParentProductNumber         1 non-null      int64  \n",
            " 20  ProductDescription          1 non-null      object \n",
            " 21  BrandIndDesc                1 non-null      object \n",
            " 22  BrandName                   1 non-null      object \n",
            " 23  VendorNumber                1 non-null      int64  \n",
            " 24  VendorName                  1 non-null      object \n",
            " 25  UnitOfMeasure               1 non-null      float64\n",
            " 26  ItemsPerPackageWH           1 non-null      int64  \n",
            " 27  DescriptionTavit            1 non-null      object \n",
            " 28  Price                       1 non-null      float64\n",
            " 29  Quantity                    1 non-null      int64  \n",
            " 30  cntPrdAll                   1 non-null      int64  \n",
            " 31  NetSaleAmountAll            1 non-null      float64\n",
            " 32  NetSaleNoVatPrdLast3Months  1 non-null      float64\n",
            " 33  QuantSale                   1 non-null      float64\n",
            " 34  cntMonths                   1 non-null      int64  \n",
            " 35  DiscountPerUnit             0 non-null      float64\n",
            " 36  isPromo                     1 non-null      object \n",
            " 37  Energy                      1 non-null      int64  \n",
            " 38  Pachmema                    1 non-null      float64\n",
            " 39  Natran                      1 non-null      int64  \n",
            " 40  Helbon                      1 non-null      float64\n",
            " 41  Shuman                      1 non-null      float64\n",
            " 42  ShumanRavuy                 1 non-null      float64\n",
            " 43  ShumanTrans                 1 non-null      float64\n",
            " 44  Colastrol                   1 non-null      int64  \n",
            " 45  SivimTzunatim               0 non-null      float64\n",
            " 46  CafiotSucar                 0 non-null      float64\n",
            " 47  DepartmentCodeSubs          1 non-null      int64  \n",
            " 48  DepartmentNameSusb          1 non-null      object \n",
            " 49  CategoryCodeSubs            1 non-null      int64  \n",
            " 50  CategoryNameSubs            1 non-null      object \n",
            " 51  GroupCodeSubs               1 non-null      int64  \n",
            " 52  GroupNameSubs               1 non-null      object \n",
            " 53  SubGroupCodeSubs            1 non-null      int64  \n",
            " 54  SubGroupNameSubs            1 non-null      object \n",
            " 55  CompoundIDSubs              1 non-null      int64  \n",
            " 56  CompoundIDDescSubs          1 non-null      object \n",
            " 57  ProductNumberSubs           1 non-null      int64  \n",
            " 58  ProductDescriptionSubs      1 non-null      object \n",
            " 59  BrandIndDescSuss            1 non-null      object \n",
            " 60  BrandNameSubs               1 non-null      object \n",
            " 61  VendorNumberSubs            1 non-null      int64  \n",
            " 62  VendorNameSubs              1 non-null      object \n",
            " 63  UnitOfMeasureSubs           1 non-null      float64\n",
            " 64  ItemsPerPackageWHSubs       1 non-null      int64  \n",
            " 65  DescriptionTavitSubs        1 non-null      object \n",
            " 66  PriceSubs                   1 non-null      float64\n",
            " 67  NetSaleNoVatPrdSubs         1 non-null      float64\n",
            " 68  QuantSaleSubs               1 non-null      float64\n",
            " 69  cntMonthsSubs               1 non-null      int64  \n",
            " 70  DiscountPerUnitSubs         0 non-null      float64\n",
            " 71  EnergySubs                  0 non-null      float64\n",
            " 72  PachmemaSubs                0 non-null      float64\n",
            " 73  NatranSubs                  0 non-null      float64\n",
            " 74  HelbonSubs                  0 non-null      float64\n",
            " 75  ShumanSubs                  0 non-null      float64\n",
            " 76  ShumanRavuySubs             0 non-null      float64\n",
            " 77  ShumanTransSubs             0 non-null      float64\n",
            " 78  ColastrolSubs               0 non-null      float64\n",
            " 79  SivimTzunatimSubs           0 non-null      float64\n",
            " 80  CafiotSucarSusb             0 non-null      float64\n",
            " 81  CorrelateItemStatusCode     1 non-null      int64  \n",
            "dtypes: float64(28), int64(30), object(24)\n",
            "memory usage: 784.0+ bytes\n"
          ],
          "name": "stdout"
        }
      ]
    },
    {
      "cell_type": "markdown",
      "metadata": {
        "id": "YnYOkLt5oySI"
      },
      "source": [
        "Eliminating unwanted columns - mostly descriptive columns"
      ]
    },
    {
      "cell_type": "code",
      "metadata": {
        "id": "zAv5e7lRBzpu",
        "colab": {
          "base_uri": "https://localhost:8080/",
          "height": 357
        },
        "outputId": "1fe34068-30d9-4e12-e1fb-f069f169e737"
      },
      "source": [
        "if RAW:\n",
        "  d(diff_list(list(df1.columns), list(df2.columns)))"
      ],
      "execution_count": 113,
      "outputs": [
        {
          "output_type": "display_data",
          "data": {
            "text/plain": [
              "['OrderNumbert',\n",
              " 'TransactionDate',\n",
              " 'DepartmentName',\n",
              " 'CategoryName',\n",
              " 'GroupName',\n",
              " 'SubGroupName',\n",
              " 'CompoundIDDesc',\n",
              " 'ProductDescription',\n",
              " 'VendorName',\n",
              " 'ItemsPerPackageWH',\n",
              " 'DescriptionTavit',\n",
              " 'DepartmentNameSusb',\n",
              " 'CategoryNameSubs',\n",
              " 'GroupNameSubs',\n",
              " 'SubGroupNameSubs',\n",
              " 'CompoundIDDescSubs',\n",
              " 'ProductDescriptionSubs',\n",
              " 'VendorNameSubs',\n",
              " 'ItemsPerPackageWHSubs',\n",
              " 'DescriptionTavitSubs']"
            ]
          },
          "metadata": {
            "tags": []
          }
        }
      ]
    },
    {
      "cell_type": "code",
      "metadata": {
        "id": "DNsn5qrnsvYo",
        "colab": {
          "base_uri": "https://localhost:8080/",
          "height": 1000
        },
        "outputId": "44e89954-60e6-42ee-b320-43303895b3e3"
      },
      "source": [
        "if RAW:\n",
        "  d(df2.info())"
      ],
      "execution_count": 114,
      "outputs": [
        {
          "output_type": "stream",
          "text": [
            "<class 'pandas.core.frame.DataFrame'>\n",
            "RangeIndex: 54460 entries, 0 to 54459\n",
            "Data columns (total 62 columns):\n",
            " #   Column                      Non-Null Count  Dtype  \n",
            "---  ------                      --------------  -----  \n",
            " 0   HouseHoldID                 54460 non-null  int64  \n",
            " 1   LocationCityName            54460 non-null  object \n",
            " 2   QuarterNumber               54460 non-null  int64  \n",
            " 3   MonthNumber                 54460 non-null  int64  \n",
            " 4   WeekNumber                  54460 non-null  int64  \n",
            " 5   DayNumberInWeek             54460 non-null  int64  \n",
            " 6   PeriodHoliday               54460 non-null  object \n",
            " 7   DepartmentCode              54460 non-null  int64  \n",
            " 8   CategoryCode                54460 non-null  int64  \n",
            " 9   GroupCode                   54460 non-null  int64  \n",
            " 10  SubGroupCode                54460 non-null  int64  \n",
            " 11  CompoundID                  54460 non-null  int64  \n",
            " 12  ParentProductNumber         54460 non-null  int64  \n",
            " 13  BrandIndDesc                54460 non-null  object \n",
            " 14  BrandName                   54460 non-null  object \n",
            " 15  VendorNumber                54460 non-null  int64  \n",
            " 16  UnitOfMeasure               54460 non-null  float64\n",
            " 17  Price                       54460 non-null  float64\n",
            " 18  Quantity                    54460 non-null  int64  \n",
            " 19  cntPrdAll                   54460 non-null  int64  \n",
            " 20  NetSaleAmountAll            54460 non-null  float64\n",
            " 21  NetSaleNoVatPrdLast3Months  54200 non-null  float64\n",
            " 22  QuantSale                   52050 non-null  float64\n",
            " 23  cntMonths                   54460 non-null  int64  \n",
            " 24  DiscountPerUnit             32398 non-null  float64\n",
            " 25  isPromo                     54460 non-null  object \n",
            " 26  Energy                      50118 non-null  float64\n",
            " 27  Pachmema                    49682 non-null  float64\n",
            " 28  Natran                      44899 non-null  float64\n",
            " 29  Helbon                      43120 non-null  float64\n",
            " 30  Shuman                      43054 non-null  float64\n",
            " 31  ShumanRavuy                 42542 non-null  float64\n",
            " 32  ShumanTrans                 42294 non-null  float64\n",
            " 33  Colastrol                   35200 non-null  float64\n",
            " 34  SivimTzunatim               10731 non-null  float64\n",
            " 35  CafiotSucar                 31399 non-null  float64\n",
            " 36  DepartmentCodeSubs          54460 non-null  int64  \n",
            " 37  CategoryCodeSubs            54460 non-null  int64  \n",
            " 38  GroupCodeSubs               54460 non-null  int64  \n",
            " 39  SubGroupCodeSubs            54460 non-null  int64  \n",
            " 40  CompoundIDSubs              54460 non-null  int64  \n",
            " 41  ProductNumberSubs           54460 non-null  int64  \n",
            " 42  BrandIndDescSuss            54456 non-null  object \n",
            " 43  BrandNameSubs               54460 non-null  object \n",
            " 44  VendorNumberSubs            54460 non-null  int64  \n",
            " 45  UnitOfMeasureSubs           54460 non-null  float64\n",
            " 46  PriceSubs                   54460 non-null  float64\n",
            " 47  NetSaleNoVatPrdSubs         54235 non-null  float64\n",
            " 48  QuantSaleSubs               52885 non-null  float64\n",
            " 49  cntMonthsSubs               54460 non-null  int64  \n",
            " 50  DiscountPerUnitSubs         2370 non-null   float64\n",
            " 51  EnergySubs                  49638 non-null  float64\n",
            " 52  PachmemaSubs                49328 non-null  float64\n",
            " 53  NatranSubs                  44680 non-null  float64\n",
            " 54  HelbonSubs                  42730 non-null  float64\n",
            " 55  ShumanSubs                  43250 non-null  float64\n",
            " 56  ShumanRavuySubs             42118 non-null  float64\n",
            " 57  ShumanTransSubs             41819 non-null  float64\n",
            " 58  ColastrolSubs               34865 non-null  float64\n",
            " 59  SivimTzunatimSubs           11973 non-null  float64\n",
            " 60  CafiotSucarSusb             30626 non-null  float64\n",
            " 61  CorrelateItemStatusCode     54460 non-null  int64  \n",
            "dtypes: float64(31), int64(24), object(7)\n",
            "memory usage: 25.8+ MB\n"
          ],
          "name": "stdout"
        },
        {
          "output_type": "display_data",
          "data": {
            "text/plain": [
              "None"
            ]
          },
          "metadata": {
            "tags": []
          }
        }
      ]
    },
    {
      "cell_type": "code",
      "metadata": {
        "id": "g8MX6rBCuirA"
      },
      "source": [
        "# Fix Typo mistake\n",
        "if RAW: \n",
        "  df2.rename(columns={'OrderNumbert': 'OrderNumber','BrandIndDescSuss': 'BrandIndDescSubs', 'ProductNumberSubs': 'ParentProductNumberSubs', \n",
        "                    'NetSaleNoVatPrdSubs': 'NetSaleNoVatPrdLast3MonthsSubs', 'CafiotSucarSusb': 'CafiotSucarSubs'}, inplace=True)"
      ],
      "execution_count": 115,
      "outputs": []
    },
    {
      "cell_type": "markdown",
      "metadata": {
        "id": "HmIVwYFDCAX8"
      },
      "source": [
        "Eliminating nulls"
      ]
    },
    {
      "cell_type": "code",
      "metadata": {
        "id": "UQCtiUn0u2i0",
        "colab": {
          "base_uri": "https://localhost:8080/",
          "height": 1000
        },
        "outputId": "6c71327b-d801-4ccb-943f-d81a85f8c848"
      },
      "source": [
        "# Fill na\n",
        "if RAW:\n",
        "  df2.fillna({'QuantSale': 1, 'QuantSaleSubs': 1}, inplace=True)\n",
        "  df2.fillna(0, inplace=True)\n",
        "  d(df2.info())"
      ],
      "execution_count": 116,
      "outputs": [
        {
          "output_type": "stream",
          "text": [
            "<class 'pandas.core.frame.DataFrame'>\n",
            "RangeIndex: 54460 entries, 0 to 54459\n",
            "Data columns (total 62 columns):\n",
            " #   Column                          Non-Null Count  Dtype  \n",
            "---  ------                          --------------  -----  \n",
            " 0   HouseHoldID                     54460 non-null  int64  \n",
            " 1   LocationCityName                54460 non-null  object \n",
            " 2   QuarterNumber                   54460 non-null  int64  \n",
            " 3   MonthNumber                     54460 non-null  int64  \n",
            " 4   WeekNumber                      54460 non-null  int64  \n",
            " 5   DayNumberInWeek                 54460 non-null  int64  \n",
            " 6   PeriodHoliday                   54460 non-null  object \n",
            " 7   DepartmentCode                  54460 non-null  int64  \n",
            " 8   CategoryCode                    54460 non-null  int64  \n",
            " 9   GroupCode                       54460 non-null  int64  \n",
            " 10  SubGroupCode                    54460 non-null  int64  \n",
            " 11  CompoundID                      54460 non-null  int64  \n",
            " 12  ParentProductNumber             54460 non-null  int64  \n",
            " 13  BrandIndDesc                    54460 non-null  object \n",
            " 14  BrandName                       54460 non-null  object \n",
            " 15  VendorNumber                    54460 non-null  int64  \n",
            " 16  UnitOfMeasure                   54460 non-null  float64\n",
            " 17  Price                           54460 non-null  float64\n",
            " 18  Quantity                        54460 non-null  int64  \n",
            " 19  cntPrdAll                       54460 non-null  int64  \n",
            " 20  NetSaleAmountAll                54460 non-null  float64\n",
            " 21  NetSaleNoVatPrdLast3Months      54460 non-null  float64\n",
            " 22  QuantSale                       54460 non-null  float64\n",
            " 23  cntMonths                       54460 non-null  int64  \n",
            " 24  DiscountPerUnit                 54460 non-null  float64\n",
            " 25  isPromo                         54460 non-null  object \n",
            " 26  Energy                          54460 non-null  float64\n",
            " 27  Pachmema                        54460 non-null  float64\n",
            " 28  Natran                          54460 non-null  float64\n",
            " 29  Helbon                          54460 non-null  float64\n",
            " 30  Shuman                          54460 non-null  float64\n",
            " 31  ShumanRavuy                     54460 non-null  float64\n",
            " 32  ShumanTrans                     54460 non-null  float64\n",
            " 33  Colastrol                       54460 non-null  float64\n",
            " 34  SivimTzunatim                   54460 non-null  float64\n",
            " 35  CafiotSucar                     54460 non-null  float64\n",
            " 36  DepartmentCodeSubs              54460 non-null  int64  \n",
            " 37  CategoryCodeSubs                54460 non-null  int64  \n",
            " 38  GroupCodeSubs                   54460 non-null  int64  \n",
            " 39  SubGroupCodeSubs                54460 non-null  int64  \n",
            " 40  CompoundIDSubs                  54460 non-null  int64  \n",
            " 41  ParentProductNumberSubs         54460 non-null  int64  \n",
            " 42  BrandIndDescSubs                54460 non-null  object \n",
            " 43  BrandNameSubs                   54460 non-null  object \n",
            " 44  VendorNumberSubs                54460 non-null  int64  \n",
            " 45  UnitOfMeasureSubs               54460 non-null  float64\n",
            " 46  PriceSubs                       54460 non-null  float64\n",
            " 47  NetSaleNoVatPrdLast3MonthsSubs  54460 non-null  float64\n",
            " 48  QuantSaleSubs                   54460 non-null  float64\n",
            " 49  cntMonthsSubs                   54460 non-null  int64  \n",
            " 50  DiscountPerUnitSubs             54460 non-null  float64\n",
            " 51  EnergySubs                      54460 non-null  float64\n",
            " 52  PachmemaSubs                    54460 non-null  float64\n",
            " 53  NatranSubs                      54460 non-null  float64\n",
            " 54  HelbonSubs                      54460 non-null  float64\n",
            " 55  ShumanSubs                      54460 non-null  float64\n",
            " 56  ShumanRavuySubs                 54460 non-null  float64\n",
            " 57  ShumanTransSubs                 54460 non-null  float64\n",
            " 58  ColastrolSubs                   54460 non-null  float64\n",
            " 59  SivimTzunatimSubs               54460 non-null  float64\n",
            " 60  CafiotSucarSubs                 54460 non-null  float64\n",
            " 61  CorrelateItemStatusCode         54460 non-null  int64  \n",
            "dtypes: float64(31), int64(24), object(7)\n",
            "memory usage: 25.8+ MB\n"
          ],
          "name": "stdout"
        },
        {
          "output_type": "display_data",
          "data": {
            "text/plain": [
              "None"
            ]
          },
          "metadata": {
            "tags": []
          }
        }
      ]
    },
    {
      "cell_type": "code",
      "metadata": {
        "id": "HABZ4mSww0qk",
        "colab": {
          "base_uri": "https://localhost:8080/"
        },
        "outputId": "e5ecef4b-ae0a-40e7-aa2a-2352ae1dd20f"
      },
      "source": [
        "if RAW:\n",
        "  df2.to_csv(\"Shufersal.csv\", index = False)\n",
        "  p(df2.shape)"
      ],
      "execution_count": 117,
      "outputs": [
        {
          "output_type": "stream",
          "text": [
            "(54460, 62)\n"
          ],
          "name": "stdout"
        }
      ]
    },
    {
      "cell_type": "code",
      "metadata": {
        "id": "lqhgbV2PGVDC",
        "colab": {
          "base_uri": "https://localhost:8080/"
        },
        "outputId": "c7855c34-7927-4514-ccd0-6b7dcdf5a3d5"
      },
      "source": [
        "if RAW:\n",
        "  df = pd.read_csv('Shufersal.csv', index_col=False)\n",
        "  p(df.shape)"
      ],
      "execution_count": 118,
      "outputs": [
        {
          "output_type": "stream",
          "text": [
            "(54460, 62)\n"
          ],
          "name": "stdout"
        }
      ]
    },
    {
      "cell_type": "markdown",
      "metadata": {
        "id": "renJj2--1PoG"
      },
      "source": [
        "## Encoding categories"
      ]
    },
    {
      "cell_type": "code",
      "metadata": {
        "id": "Z0frP-SsM4Gq",
        "colab": {
          "base_uri": "https://localhost:8080/"
        },
        "outputId": "a14017a1-d9a1-445b-c555-378d7fec8c02"
      },
      "source": [
        "from sklearn.preprocessing import LabelEncoder\n",
        "enc = LabelEncoder()\n",
        "\n",
        "if RAW:\n",
        "  enc.fit(['noPromo', 'PromoSusbSamePromo', 'PromoSusbDiffPromo'])\n",
        "  p(df.isPromo.value_counts())\n",
        "  p()\n",
        "  df.isPromo = enc.transform(df.isPromo)\n",
        "  p(df.isPromo.value_counts())"
      ],
      "execution_count": 119,
      "outputs": [
        {
          "output_type": "stream",
          "text": [
            "PromoSusbDiffPromo    30490\n",
            "noPromo               22062\n",
            "PromoSusbSamePromo     1908\n",
            "Name: isPromo, dtype: int64\n",
            "\n",
            "0    30490\n",
            "2    22062\n",
            "1     1908\n",
            "Name: isPromo, dtype: int64\n"
          ],
          "name": "stdout"
        }
      ]
    },
    {
      "cell_type": "code",
      "metadata": {
        "id": "CXZ6Hs2L1ONt",
        "colab": {
          "base_uri": "https://localhost:8080/"
        },
        "outputId": "28db5024-0043-4a1a-9680-4f7ab1ab01f0"
      },
      "source": [
        "if RAW:\n",
        "  for col in ['LocationCityName', 'PeriodHoliday', 'BrandIndDesc', 'BrandName', 'BrandIndDescSubs', 'BrandNameSubs']:\n",
        "    p(col)\n",
        "    p(pd.DataFrame(df[col].value_counts()).index)\n",
        "    df[col] = enc.fit_transform(df[col])\n",
        "    p(pd.DataFrame(df[col].value_counts()).index)"
      ],
      "execution_count": 120,
      "outputs": [
        {
          "output_type": "stream",
          "text": [
            "LocationCityName\n",
            "Index(['ראשון לציון', 'תל אביב', 'חיפה', 'רחובות', 'ירושלים', 'כפר סבא',\n",
            "       'פתח תקוה', 'ראש העין', 'רמת גן', 'רעננה', 'רמת השרון', 'נס ציונה',\n",
            "       'מודיעין', 'חולון', 'גבעתיים', 'נתניה', 'הוד השרון', 'אילת', 'יהוד',\n",
            "       'אשקלון', 'קרית מוצקין', 'חריש', 'כרמיאל', 'הרצליה', 'רמת אביב א',\n",
            "       'שוהם', 'עפולה', 'באר יעקב', 'צור-יגאל', 'ערד', 'מזכרת בתיה', 'בני ברק',\n",
            "       'חדרה', 'טירת הכרמל', 'מעלה אדומים', 'ירוחם', 'זכרון יעקב', 'רמלה',\n",
            "       'בנימינה', 'קרית שמונה', 'מגדל העמק', 'יבנה', 'אור עקיבא', 'קרית אתא',\n",
            "       'קרית ביאליק', 'עמק חפר', 'תל מונד', 'קרית עקרון', 'בת ים', 'קצרין',\n",
            "       'בית שאן', 'פרדס חנה', 'מבשרת ציון', 'בית-שמש', 'כפר תבור',\n",
            "       'משמר השרון', 'פרדסיה', 'שדרות', 'נהריה', 'קרית גת', 'אריאל', 'טבריה',\n",
            "       'צור משה', 'כרכור', 'קרית חיים', 'אשדוד', 'מפרץ חיפה', 'גבעת אולגה',\n",
            "       'מעלות', 'נשר', 'באר טוביה', 'צפת', 'חצור-הגלילית', 'כפר ורדים',\n",
            "       'אופקים', 'בית חשמונאי', 'גבעת עדה', 'בת חפר', 'גבעת שמואל', 'שילת',\n",
            "       'באר שבע', 'גדרה', 'קרית אונו', 'כפר נטר', 'אזור', 'צור הדסה',\n",
            "       'ראש פינה', 'עכו', 'צומת כרכור', 'נוף הגליל', 'טבעון', 'יקנעם',\n",
            "       'דימונה', 'מיתר', 'צורן קדימה', 'בני דרור', 'סביון', 'נשר חיפה',\n",
            "       'קריית שמונה'],\n",
            "      dtype='object')\n",
            "Int64Index([87, 97, 29, 88, 39, 42, 68, 85, 91, 93, 92, 57, 48, 28, 21, 60, 24,\n",
            "             3, 36,  6, 82, 31, 45, 25, 90, 95, 64,  8, 72, 65, 49, 13, 27, 34,\n",
            "            51, 38, 26, 89, 15, 84, 47, 35,  1, 78, 79, 63, 98, 83, 17, 75, 11,\n",
            "            66, 46, 12, 43, 54, 67, 94, 80, 55,  4, 71, 33, 44,  5, 81, 53, 52,\n",
            "            18, 58, 74,  7, 30, 40,  0, 10, 19, 16, 20, 96,  9, 22, 77, 41,  2,\n",
            "            70, 32, 62, 86, 56, 69, 37, 50, 23, 61, 14, 73, 76, 59],\n",
            "           dtype='int64')\n",
            "PeriodHoliday\n",
            "Index(['NotHoliday', 'HolidayPeriod'], dtype='object')\n",
            "Int64Index([1, 0], dtype='int64')\n",
            "BrandIndDesc\n",
            "Index(['פרה', 'קינדר', 'עלית', 'קליק', 'שופרסל', 'M&M', 'מאסט', 'מילקה',\n",
            "       'לינדט', 'אורביט', 'יוגטה', 'מנטוס', 'פסק זמן', 'שטראוס', 'ספלנדיד',\n",
            "       'טוויקס', 'נסטלה', 'גודייבה', 'ריטר ספורט', 'פריי', 'סקיטלס', 'פשקס',\n",
            "       'צ'וקטה', 'ורד הגליל', 'כרמית', 'פררו', 'סניקרס', 'הרשי', 'מליטיזרס',\n",
            "       'טיק טק', 'FIVE', 'ורטר', 'מוצרט', 'אתי', 'שטורק', 'איירוויבז', 'לואקר',\n",
            "       'הריבו', 'לריטייר', 'מרס', 'מנבו', 'טופיפי', 'DISNEY', 'פיקניק',\n",
            "       'מייק&אייק', 'באונטי', 'בי קיינד', 'נוטלה', 'קדבורי', 'פרניגוטי',\n",
            "       'קוטדור', 'הובה בובה', 'טובלרון', 'ORIGINAL', 'באצ'י', 'פז', 'המלט',\n",
            "       'הולי קקאו', 'שוקול'ס'],\n",
            "      dtype='object')\n",
            "Int64Index([44, 52, 40, 53, 55,  2, 27, 30, 25,  4, 22, 33, 43, 58, 38, 19, 36,\n",
            "            10, 54, 45, 39, 48, 49, 16, 23, 47, 37, 15, 31, 21,  1, 17, 28,  6,\n",
            "            57,  5, 24, 14, 26, 34, 32, 20,  0, 42, 29,  7,  9, 35, 50, 46, 11,\n",
            "             3, 18, 51,  8, 41, 13, 12, 56],\n",
            "           dtype='int64')\n",
            "BrandName\n",
            "Index(['לא מותג פרטי', 'מותג פרטי'], dtype='object')\n",
            "Int64Index([0, 1], dtype='int64')\n",
            "BrandIndDescSubs\n",
            "Index(['פרה', 'קינדר', 'עלית', 'שופרסל', 'קליק', 'M&M', 'מילקה', 'מאסט',\n",
            "       'לינדט', 'אורביט', 'יוגטה', 'מנטוס', 'פסק זמן', 'ספלנדיד', 'נסטלה',\n",
            "       'ריטר ספורט', 'פריי', 'מנבו', 'פשקס', 'סניקרס', 'גודייבה', 'צ'וקטה',\n",
            "       'שטראוס', 'סקיטלס', 'טוויקס', 'כרמית', 'פררו', 'ורטר', 'טיק טק', 'FIVE',\n",
            "       'מוצרט', 'אתי', 'הרשי', 'איירוויבז', 'שטורק', 'DISNEY', 'מרס', 'לואקר',\n",
            "       'באונטי', 'ורד הגליל', 'הריבו', 'טופיפי', 'מייק&אייק', 'בי קיינד',\n",
            "       'מליטיזרס', 'נוטלה', 'לריטייר', 'פיקניק', 'קדבורי', 'פרניגוטי',\n",
            "       'הובה בובה', 'שקדיה סלקט', 'אסם', 'אוראו', 'מנעמים', '0', 'ג'לונים',\n",
            "       'פז', 'מקוויטיס', 'טובלרון', 'שופרסל גרין', 'קוטדור', 'וגה', 'פינוקים',\n",
            "       'במבה', 'השף הלבן', 'מרבה', 'מן', 'ORIGINAL', 'תנובה', 'FREE', 'האחים',\n",
            "       'שוקול'ס', 'באלזן', 'דר ברונר', 'קליית גת', 'שוק קולינרי', 'פפושדו',\n",
            "       'שקד תבור', 'קטיף'],\n",
            "      dtype='object')\n",
            "Int64Index([58, 67, 52, 71, 69,  4, 38, 35, 33,  7, 30, 42, 56, 50, 48, 70, 59,\n",
            "            41, 62, 49, 16, 63, 76, 51, 27, 31, 61, 25, 29,  2, 36, 10, 21,  8,\n",
            "            75,  1, 46, 32, 11, 24, 20, 28, 37, 13, 39, 47, 34, 55, 64, 60, 78,\n",
            "            19,  9, 43,  6,  0, 15, 53, 72, 65, 26, 44, 54, 66, 57,  3, 23, 12,\n",
            "            22, 68,  5, 17, 79, 40, 14, 73, 77, 45, 74, 18],\n",
            "           dtype='int64')\n",
            "BrandNameSubs\n",
            "Index(['לא מותג פרטי', 'מותג פרטי'], dtype='object')\n",
            "Int64Index([0, 1], dtype='int64')\n"
          ],
          "name": "stdout"
        }
      ]
    },
    {
      "cell_type": "markdown",
      "metadata": {
        "id": "4rM2GtyAYC0G"
      },
      "source": [
        "## Combine 'GroupCode' and 'SubGroupCode' into one column"
      ]
    },
    {
      "cell_type": "code",
      "metadata": {
        "colab": {
          "base_uri": "https://localhost:8080/",
          "height": 0
        },
        "id": "NUZO5YI5YBgY",
        "outputId": "c84b4a9c-8d6f-48e2-d481-f4af406813db"
      },
      "source": [
        "if RAW:\n",
        "  d(df.head(2))\n",
        "  df.GroupCode = df.GroupCode * 10 + df.SubGroupCode\n",
        "  df.GroupCodeSubs = df.GroupCodeSubs * 10 + df.SubGroupCodeSubs\n",
        "  df.drop(['SubGroupCode', 'SubGroupCodeSubs'], axis=1, inplace=True)\n",
        "  d(df.head(2))"
      ],
      "execution_count": 121,
      "outputs": [
        {
          "output_type": "display_data",
          "data": {
            "text/html": [
              "<div>\n",
              "<style scoped>\n",
              "    .dataframe tbody tr th:only-of-type {\n",
              "        vertical-align: middle;\n",
              "    }\n",
              "\n",
              "    .dataframe tbody tr th {\n",
              "        vertical-align: top;\n",
              "    }\n",
              "\n",
              "    .dataframe thead th {\n",
              "        text-align: right;\n",
              "    }\n",
              "</style>\n",
              "<table border=\"1\" class=\"dataframe\">\n",
              "  <thead>\n",
              "    <tr style=\"text-align: right;\">\n",
              "      <th></th>\n",
              "      <th>HouseHoldID</th>\n",
              "      <th>LocationCityName</th>\n",
              "      <th>QuarterNumber</th>\n",
              "      <th>MonthNumber</th>\n",
              "      <th>WeekNumber</th>\n",
              "      <th>DayNumberInWeek</th>\n",
              "      <th>PeriodHoliday</th>\n",
              "      <th>DepartmentCode</th>\n",
              "      <th>CategoryCode</th>\n",
              "      <th>GroupCode</th>\n",
              "      <th>SubGroupCode</th>\n",
              "      <th>CompoundID</th>\n",
              "      <th>ParentProductNumber</th>\n",
              "      <th>BrandIndDesc</th>\n",
              "      <th>BrandName</th>\n",
              "      <th>VendorNumber</th>\n",
              "      <th>UnitOfMeasure</th>\n",
              "      <th>Price</th>\n",
              "      <th>Quantity</th>\n",
              "      <th>cntPrdAll</th>\n",
              "      <th>NetSaleAmountAll</th>\n",
              "      <th>NetSaleNoVatPrdLast3Months</th>\n",
              "      <th>QuantSale</th>\n",
              "      <th>cntMonths</th>\n",
              "      <th>DiscountPerUnit</th>\n",
              "      <th>isPromo</th>\n",
              "      <th>Energy</th>\n",
              "      <th>Pachmema</th>\n",
              "      <th>Natran</th>\n",
              "      <th>Helbon</th>\n",
              "      <th>Shuman</th>\n",
              "      <th>ShumanRavuy</th>\n",
              "      <th>ShumanTrans</th>\n",
              "      <th>Colastrol</th>\n",
              "      <th>SivimTzunatim</th>\n",
              "      <th>CafiotSucar</th>\n",
              "      <th>DepartmentCodeSubs</th>\n",
              "      <th>CategoryCodeSubs</th>\n",
              "      <th>GroupCodeSubs</th>\n",
              "      <th>SubGroupCodeSubs</th>\n",
              "      <th>CompoundIDSubs</th>\n",
              "      <th>ParentProductNumberSubs</th>\n",
              "      <th>BrandIndDescSubs</th>\n",
              "      <th>BrandNameSubs</th>\n",
              "      <th>VendorNumberSubs</th>\n",
              "      <th>UnitOfMeasureSubs</th>\n",
              "      <th>PriceSubs</th>\n",
              "      <th>NetSaleNoVatPrdLast3MonthsSubs</th>\n",
              "      <th>QuantSaleSubs</th>\n",
              "      <th>cntMonthsSubs</th>\n",
              "      <th>DiscountPerUnitSubs</th>\n",
              "      <th>EnergySubs</th>\n",
              "      <th>PachmemaSubs</th>\n",
              "      <th>NatranSubs</th>\n",
              "      <th>HelbonSubs</th>\n",
              "      <th>ShumanSubs</th>\n",
              "      <th>ShumanRavuySubs</th>\n",
              "      <th>ShumanTransSubs</th>\n",
              "      <th>ColastrolSubs</th>\n",
              "      <th>SivimTzunatimSubs</th>\n",
              "      <th>CafiotSucarSubs</th>\n",
              "      <th>CorrelateItemStatusCode</th>\n",
              "    </tr>\n",
              "  </thead>\n",
              "  <tbody>\n",
              "    <tr>\n",
              "      <th>0</th>\n",
              "      <td>1</td>\n",
              "      <td>87</td>\n",
              "      <td>202101</td>\n",
              "      <td>202102</td>\n",
              "      <td>202108</td>\n",
              "      <td>1</td>\n",
              "      <td>1</td>\n",
              "      <td>10</td>\n",
              "      <td>6</td>\n",
              "      <td>700</td>\n",
              "      <td>3</td>\n",
              "      <td>-8000500249352</td>\n",
              "      <td>8000500249352</td>\n",
              "      <td>52</td>\n",
              "      <td>0</td>\n",
              "      <td>914547</td>\n",
              "      <td>0.2</td>\n",
              "      <td>18.9</td>\n",
              "      <td>4</td>\n",
              "      <td>22</td>\n",
              "      <td>800.63</td>\n",
              "      <td>57747.16</td>\n",
              "      <td>0.8</td>\n",
              "      <td>16</td>\n",
              "      <td>0.0</td>\n",
              "      <td>2</td>\n",
              "      <td>568.0</td>\n",
              "      <td>49.5</td>\n",
              "      <td>107.0</td>\n",
              "      <td>8.6</td>\n",
              "      <td>37.8</td>\n",
              "      <td>17.3</td>\n",
              "      <td>0.5</td>\n",
              "      <td>15.0</td>\n",
              "      <td>0.0</td>\n",
              "      <td>0.00</td>\n",
              "      <td>10</td>\n",
              "      <td>6</td>\n",
              "      <td>700</td>\n",
              "      <td>6</td>\n",
              "      <td>-8000500217740</td>\n",
              "      <td>8000500217740</td>\n",
              "      <td>67</td>\n",
              "      <td>0</td>\n",
              "      <td>914547</td>\n",
              "      <td>0.09</td>\n",
              "      <td>9.9</td>\n",
              "      <td>46128.25</td>\n",
              "      <td>0.8</td>\n",
              "      <td>13</td>\n",
              "      <td>0.0</td>\n",
              "      <td>0.0</td>\n",
              "      <td>0.0</td>\n",
              "      <td>0.0</td>\n",
              "      <td>0.0</td>\n",
              "      <td>0.0</td>\n",
              "      <td>0.0</td>\n",
              "      <td>0.0</td>\n",
              "      <td>0.0</td>\n",
              "      <td>0.0</td>\n",
              "      <td>0.00</td>\n",
              "      <td>1</td>\n",
              "    </tr>\n",
              "    <tr>\n",
              "      <th>1</th>\n",
              "      <td>2</td>\n",
              "      <td>87</td>\n",
              "      <td>202101</td>\n",
              "      <td>202103</td>\n",
              "      <td>202112</td>\n",
              "      <td>1</td>\n",
              "      <td>0</td>\n",
              "      <td>10</td>\n",
              "      <td>6</td>\n",
              "      <td>699</td>\n",
              "      <td>4</td>\n",
              "      <td>2900</td>\n",
              "      <td>178134</td>\n",
              "      <td>44</td>\n",
              "      <td>0</td>\n",
              "      <td>912069</td>\n",
              "      <td>0.4</td>\n",
              "      <td>19.6</td>\n",
              "      <td>1</td>\n",
              "      <td>12</td>\n",
              "      <td>207.30</td>\n",
              "      <td>141798.59</td>\n",
              "      <td>0.6</td>\n",
              "      <td>16</td>\n",
              "      <td>0.0</td>\n",
              "      <td>2</td>\n",
              "      <td>514.0</td>\n",
              "      <td>51.0</td>\n",
              "      <td>0.0</td>\n",
              "      <td>5.3</td>\n",
              "      <td>31.0</td>\n",
              "      <td>19.2</td>\n",
              "      <td>0.5</td>\n",
              "      <td>0.0</td>\n",
              "      <td>0.0</td>\n",
              "      <td>12.25</td>\n",
              "      <td>10</td>\n",
              "      <td>6</td>\n",
              "      <td>699</td>\n",
              "      <td>4</td>\n",
              "      <td>23107</td>\n",
              "      <td>7290100852576</td>\n",
              "      <td>58</td>\n",
              "      <td>0</td>\n",
              "      <td>912069</td>\n",
              "      <td>0.30</td>\n",
              "      <td>10.0</td>\n",
              "      <td>67947.93</td>\n",
              "      <td>0.8</td>\n",
              "      <td>15</td>\n",
              "      <td>0.0</td>\n",
              "      <td>514.0</td>\n",
              "      <td>51.0</td>\n",
              "      <td>0.0</td>\n",
              "      <td>5.3</td>\n",
              "      <td>31.0</td>\n",
              "      <td>19.2</td>\n",
              "      <td>0.5</td>\n",
              "      <td>0.0</td>\n",
              "      <td>0.0</td>\n",
              "      <td>12.25</td>\n",
              "      <td>1</td>\n",
              "    </tr>\n",
              "  </tbody>\n",
              "</table>\n",
              "</div>"
            ],
            "text/plain": [
              "   HouseHoldID  LocationCityName  ...  CafiotSucarSubs  CorrelateItemStatusCode\n",
              "0            1                87  ...             0.00                        1\n",
              "1            2                87  ...            12.25                        1\n",
              "\n",
              "[2 rows x 62 columns]"
            ]
          },
          "metadata": {
            "tags": []
          }
        },
        {
          "output_type": "display_data",
          "data": {
            "text/html": [
              "<div>\n",
              "<style scoped>\n",
              "    .dataframe tbody tr th:only-of-type {\n",
              "        vertical-align: middle;\n",
              "    }\n",
              "\n",
              "    .dataframe tbody tr th {\n",
              "        vertical-align: top;\n",
              "    }\n",
              "\n",
              "    .dataframe thead th {\n",
              "        text-align: right;\n",
              "    }\n",
              "</style>\n",
              "<table border=\"1\" class=\"dataframe\">\n",
              "  <thead>\n",
              "    <tr style=\"text-align: right;\">\n",
              "      <th></th>\n",
              "      <th>HouseHoldID</th>\n",
              "      <th>LocationCityName</th>\n",
              "      <th>QuarterNumber</th>\n",
              "      <th>MonthNumber</th>\n",
              "      <th>WeekNumber</th>\n",
              "      <th>DayNumberInWeek</th>\n",
              "      <th>PeriodHoliday</th>\n",
              "      <th>DepartmentCode</th>\n",
              "      <th>CategoryCode</th>\n",
              "      <th>GroupCode</th>\n",
              "      <th>CompoundID</th>\n",
              "      <th>ParentProductNumber</th>\n",
              "      <th>BrandIndDesc</th>\n",
              "      <th>BrandName</th>\n",
              "      <th>VendorNumber</th>\n",
              "      <th>UnitOfMeasure</th>\n",
              "      <th>Price</th>\n",
              "      <th>Quantity</th>\n",
              "      <th>cntPrdAll</th>\n",
              "      <th>NetSaleAmountAll</th>\n",
              "      <th>NetSaleNoVatPrdLast3Months</th>\n",
              "      <th>QuantSale</th>\n",
              "      <th>cntMonths</th>\n",
              "      <th>DiscountPerUnit</th>\n",
              "      <th>isPromo</th>\n",
              "      <th>Energy</th>\n",
              "      <th>Pachmema</th>\n",
              "      <th>Natran</th>\n",
              "      <th>Helbon</th>\n",
              "      <th>Shuman</th>\n",
              "      <th>ShumanRavuy</th>\n",
              "      <th>ShumanTrans</th>\n",
              "      <th>Colastrol</th>\n",
              "      <th>SivimTzunatim</th>\n",
              "      <th>CafiotSucar</th>\n",
              "      <th>DepartmentCodeSubs</th>\n",
              "      <th>CategoryCodeSubs</th>\n",
              "      <th>GroupCodeSubs</th>\n",
              "      <th>CompoundIDSubs</th>\n",
              "      <th>ParentProductNumberSubs</th>\n",
              "      <th>BrandIndDescSubs</th>\n",
              "      <th>BrandNameSubs</th>\n",
              "      <th>VendorNumberSubs</th>\n",
              "      <th>UnitOfMeasureSubs</th>\n",
              "      <th>PriceSubs</th>\n",
              "      <th>NetSaleNoVatPrdLast3MonthsSubs</th>\n",
              "      <th>QuantSaleSubs</th>\n",
              "      <th>cntMonthsSubs</th>\n",
              "      <th>DiscountPerUnitSubs</th>\n",
              "      <th>EnergySubs</th>\n",
              "      <th>PachmemaSubs</th>\n",
              "      <th>NatranSubs</th>\n",
              "      <th>HelbonSubs</th>\n",
              "      <th>ShumanSubs</th>\n",
              "      <th>ShumanRavuySubs</th>\n",
              "      <th>ShumanTransSubs</th>\n",
              "      <th>ColastrolSubs</th>\n",
              "      <th>SivimTzunatimSubs</th>\n",
              "      <th>CafiotSucarSubs</th>\n",
              "      <th>CorrelateItemStatusCode</th>\n",
              "    </tr>\n",
              "  </thead>\n",
              "  <tbody>\n",
              "    <tr>\n",
              "      <th>0</th>\n",
              "      <td>1</td>\n",
              "      <td>87</td>\n",
              "      <td>202101</td>\n",
              "      <td>202102</td>\n",
              "      <td>202108</td>\n",
              "      <td>1</td>\n",
              "      <td>1</td>\n",
              "      <td>10</td>\n",
              "      <td>6</td>\n",
              "      <td>7003</td>\n",
              "      <td>-8000500249352</td>\n",
              "      <td>8000500249352</td>\n",
              "      <td>52</td>\n",
              "      <td>0</td>\n",
              "      <td>914547</td>\n",
              "      <td>0.2</td>\n",
              "      <td>18.9</td>\n",
              "      <td>4</td>\n",
              "      <td>22</td>\n",
              "      <td>800.63</td>\n",
              "      <td>57747.16</td>\n",
              "      <td>0.8</td>\n",
              "      <td>16</td>\n",
              "      <td>0.0</td>\n",
              "      <td>2</td>\n",
              "      <td>568.0</td>\n",
              "      <td>49.5</td>\n",
              "      <td>107.0</td>\n",
              "      <td>8.6</td>\n",
              "      <td>37.8</td>\n",
              "      <td>17.3</td>\n",
              "      <td>0.5</td>\n",
              "      <td>15.0</td>\n",
              "      <td>0.0</td>\n",
              "      <td>0.00</td>\n",
              "      <td>10</td>\n",
              "      <td>6</td>\n",
              "      <td>7006</td>\n",
              "      <td>-8000500217740</td>\n",
              "      <td>8000500217740</td>\n",
              "      <td>67</td>\n",
              "      <td>0</td>\n",
              "      <td>914547</td>\n",
              "      <td>0.09</td>\n",
              "      <td>9.9</td>\n",
              "      <td>46128.25</td>\n",
              "      <td>0.8</td>\n",
              "      <td>13</td>\n",
              "      <td>0.0</td>\n",
              "      <td>0.0</td>\n",
              "      <td>0.0</td>\n",
              "      <td>0.0</td>\n",
              "      <td>0.0</td>\n",
              "      <td>0.0</td>\n",
              "      <td>0.0</td>\n",
              "      <td>0.0</td>\n",
              "      <td>0.0</td>\n",
              "      <td>0.0</td>\n",
              "      <td>0.00</td>\n",
              "      <td>1</td>\n",
              "    </tr>\n",
              "    <tr>\n",
              "      <th>1</th>\n",
              "      <td>2</td>\n",
              "      <td>87</td>\n",
              "      <td>202101</td>\n",
              "      <td>202103</td>\n",
              "      <td>202112</td>\n",
              "      <td>1</td>\n",
              "      <td>0</td>\n",
              "      <td>10</td>\n",
              "      <td>6</td>\n",
              "      <td>6994</td>\n",
              "      <td>2900</td>\n",
              "      <td>178134</td>\n",
              "      <td>44</td>\n",
              "      <td>0</td>\n",
              "      <td>912069</td>\n",
              "      <td>0.4</td>\n",
              "      <td>19.6</td>\n",
              "      <td>1</td>\n",
              "      <td>12</td>\n",
              "      <td>207.30</td>\n",
              "      <td>141798.59</td>\n",
              "      <td>0.6</td>\n",
              "      <td>16</td>\n",
              "      <td>0.0</td>\n",
              "      <td>2</td>\n",
              "      <td>514.0</td>\n",
              "      <td>51.0</td>\n",
              "      <td>0.0</td>\n",
              "      <td>5.3</td>\n",
              "      <td>31.0</td>\n",
              "      <td>19.2</td>\n",
              "      <td>0.5</td>\n",
              "      <td>0.0</td>\n",
              "      <td>0.0</td>\n",
              "      <td>12.25</td>\n",
              "      <td>10</td>\n",
              "      <td>6</td>\n",
              "      <td>6994</td>\n",
              "      <td>23107</td>\n",
              "      <td>7290100852576</td>\n",
              "      <td>58</td>\n",
              "      <td>0</td>\n",
              "      <td>912069</td>\n",
              "      <td>0.30</td>\n",
              "      <td>10.0</td>\n",
              "      <td>67947.93</td>\n",
              "      <td>0.8</td>\n",
              "      <td>15</td>\n",
              "      <td>0.0</td>\n",
              "      <td>514.0</td>\n",
              "      <td>51.0</td>\n",
              "      <td>0.0</td>\n",
              "      <td>5.3</td>\n",
              "      <td>31.0</td>\n",
              "      <td>19.2</td>\n",
              "      <td>0.5</td>\n",
              "      <td>0.0</td>\n",
              "      <td>0.0</td>\n",
              "      <td>12.25</td>\n",
              "      <td>1</td>\n",
              "    </tr>\n",
              "  </tbody>\n",
              "</table>\n",
              "</div>"
            ],
            "text/plain": [
              "   HouseHoldID  LocationCityName  ...  CafiotSucarSubs  CorrelateItemStatusCode\n",
              "0            1                87  ...             0.00                        1\n",
              "1            2                87  ...            12.25                        1\n",
              "\n",
              "[2 rows x 60 columns]"
            ]
          },
          "metadata": {
            "tags": []
          }
        }
      ]
    },
    {
      "cell_type": "markdown",
      "metadata": {
        "id": "pRT1z8asSKa0"
      },
      "source": [
        "## Use Dummies"
      ]
    },
    {
      "cell_type": "markdown",
      "metadata": {
        "id": "Q4sf5rfwdnqs"
      },
      "source": [
        "Minimal improvement - FalseNegative (0,0) improved from 1338 to 1328"
      ]
    },
    {
      "cell_type": "code",
      "metadata": {
        "id": "enpCWADOSFsg",
        "colab": {
          "base_uri": "https://localhost:8080/"
        },
        "outputId": "16d820dc-c1ee-4ac6-ab58-b1d96d4ee750"
      },
      "source": [
        "## Converting the categories column (isPromo) to dummies column \n",
        "if RAW:\n",
        "  p(df.shape)\n",
        "  df = pd.get_dummies(df, columns=['isPromo', 'PeriodHoliday'])\n",
        "  p(df.shape)"
      ],
      "execution_count": 122,
      "outputs": [
        {
          "output_type": "stream",
          "text": [
            "(54460, 60)\n",
            "(54460, 63)\n"
          ],
          "name": "stdout"
        }
      ]
    },
    {
      "cell_type": "code",
      "metadata": {
        "id": "weFSY7OLZWsG"
      },
      "source": [
        "if RAW:\n",
        "  df_t = df.copy()"
      ],
      "execution_count": 123,
      "outputs": []
    },
    {
      "cell_type": "markdown",
      "metadata": {
        "id": "bNnieSsiHr4A"
      },
      "source": [
        "## Calc diff vector"
      ]
    },
    {
      "cell_type": "code",
      "metadata": {
        "id": "2h_nBoBY_5o5",
        "colab": {
          "base_uri": "https://localhost:8080/"
        },
        "outputId": "5764d68d-13ec-415a-cc38-d28b7addaa9e"
      },
      "source": [
        "if RAW:\n",
        "  p(df.columns)"
      ],
      "execution_count": 124,
      "outputs": [
        {
          "output_type": "stream",
          "text": [
            "Index(['HouseHoldID', 'LocationCityName', 'QuarterNumber', 'MonthNumber',\n",
            "       'WeekNumber', 'DayNumberInWeek', 'DepartmentCode', 'CategoryCode',\n",
            "       'GroupCode', 'CompoundID', 'ParentProductNumber', 'BrandIndDesc',\n",
            "       'BrandName', 'VendorNumber', 'UnitOfMeasure', 'Price', 'Quantity',\n",
            "       'cntPrdAll', 'NetSaleAmountAll', 'NetSaleNoVatPrdLast3Months',\n",
            "       'QuantSale', 'cntMonths', 'DiscountPerUnit', 'Energy', 'Pachmema',\n",
            "       'Natran', 'Helbon', 'Shuman', 'ShumanRavuy', 'ShumanTrans', 'Colastrol',\n",
            "       'SivimTzunatim', 'CafiotSucar', 'DepartmentCodeSubs',\n",
            "       'CategoryCodeSubs', 'GroupCodeSubs', 'CompoundIDSubs',\n",
            "       'ParentProductNumberSubs', 'BrandIndDescSubs', 'BrandNameSubs',\n",
            "       'VendorNumberSubs', 'UnitOfMeasureSubs', 'PriceSubs',\n",
            "       'NetSaleNoVatPrdLast3MonthsSubs', 'QuantSaleSubs', 'cntMonthsSubs',\n",
            "       'DiscountPerUnitSubs', 'EnergySubs', 'PachmemaSubs', 'NatranSubs',\n",
            "       'HelbonSubs', 'ShumanSubs', 'ShumanRavuySubs', 'ShumanTransSubs',\n",
            "       'ColastrolSubs', 'SivimTzunatimSubs', 'CafiotSucarSubs',\n",
            "       'CorrelateItemStatusCode', 'isPromo_0', 'isPromo_1', 'isPromo_2',\n",
            "       'PeriodHoliday_0', 'PeriodHoliday_1'],\n",
            "      dtype='object')\n"
          ],
          "name": "stdout"
        }
      ]
    },
    {
      "cell_type": "code",
      "metadata": {
        "id": "dVnvNLbJEFao"
      },
      "source": [
        "if RAW and DIFF:\n",
        "  for col in ['DepartmentCode', 'CategoryCode', 'GroupCode', #'SubGroupCode',\n",
        "       'CompoundID', 'ParentProductNumber', 'BrandIndDesc',\n",
        "       'VendorNumber', 'UnitOfMeasure', 'Price', 'NetSaleNoVatPrdLast3Months', 'Energy', 'Pachmema',\n",
        "       'Natran', 'Helbon', 'Shuman', 'ShumanRavuy', 'ShumanTrans', 'Colastrol',\n",
        "       'SivimTzunatim', 'CafiotSucar', 'QuantSale', 'cntMonths', 'DiscountPerUnit']:\n",
        "    df[col + 'Diff'] = df[col] - df[col + 'Subs']"
      ],
      "execution_count": 125,
      "outputs": []
    },
    {
      "cell_type": "code",
      "metadata": {
        "id": "R1pvSAXODmsI"
      },
      "source": [
        "if RAW and DIFF:\n",
        "  for col in ['DepartmentCode', 'CategoryCode', 'GroupCode', #'SubGroupCode',\n",
        "       'CompoundID', 'ParentProductNumber', 'VendorNumber', 'BrandIndDesc']:\n",
        "    df[col + 'Diff'] = (df[col + 'Diff'] != 0)   # tested both ==0 and !=0 (the result is 1 for one and 0 for the other - no change in the model results)\n",
        "    df[col + 'Diff'] = enc.fit_transform(df[col + 'Diff'])"
      ],
      "execution_count": 126,
      "outputs": []
    },
    {
      "cell_type": "code",
      "metadata": {
        "id": "211GbAUygag_"
      },
      "source": [
        "## Converting the categories columns to dummies column \n",
        "if False and RAW:\n",
        "  p(df.shape)\n",
        "  df = pd.get_dummies(df, columns=['DepartmentCode', 'CategoryCode', 'GroupCode'\n",
        "       'CompoundID', 'ParentProductNumber', 'VendorNumber', 'BrandIndDesc'])\n",
        "  p(df.shape)"
      ],
      "execution_count": 127,
      "outputs": []
    },
    {
      "cell_type": "code",
      "metadata": {
        "id": "LuelWNmFIQ4y"
      },
      "source": [
        "## Converting the categories column (isPromo) to dummies column \n",
        "if RAW and DIFF and False:\n",
        "  p(df.shape)\n",
        "  cols = []\n",
        "  for col in ['DepartmentCode', 'CategoryCode', 'GroupCode',\n",
        "        'CompoundID', 'ParentProductNumber', 'VendorNumber', 'BrandIndDesc']:\n",
        "      cols.append(col)\n",
        "      cols.append(col + 'Subs')\n",
        "      cols.append(col + 'Diff')\n",
        "  df = pd.get_dummies(df, columns=cols)\n",
        "  p(df.shape)"
      ],
      "execution_count": 128,
      "outputs": []
    },
    {
      "cell_type": "code",
      "metadata": {
        "id": "y8AeEktZ8SJB"
      },
      "source": [
        "if RAW and DIFF:\n",
        "  df.to_csv(\"Shufersal_with_diff.csv\", index = False)"
      ],
      "execution_count": 129,
      "outputs": []
    },
    {
      "cell_type": "code",
      "metadata": {
        "id": "lDvfuMAa8ze9",
        "colab": {
          "base_uri": "https://localhost:8080/"
        },
        "outputId": "3272660e-7204-44ce-b3a0-a55d15cd239c"
      },
      "source": [
        "if RAW and DIFF:\n",
        "  df = pd.read_csv('Shufersal_with_diff.csv', index_col=False)\n",
        "  p(df.shape)"
      ],
      "execution_count": 130,
      "outputs": [
        {
          "output_type": "stream",
          "text": [
            "(54460, 86)\n"
          ],
          "name": "stdout"
        }
      ]
    },
    {
      "cell_type": "code",
      "metadata": {
        "id": "BnIZZagWMJLi",
        "colab": {
          "base_uri": "https://localhost:8080/",
          "height": 253
        },
        "outputId": "a3aa11fa-b197-498d-b5be-099a87054a13"
      },
      "source": [
        "if RAW and DIFF:\n",
        "  d(df.head())"
      ],
      "execution_count": 131,
      "outputs": [
        {
          "output_type": "display_data",
          "data": {
            "text/html": [
              "<div>\n",
              "<style scoped>\n",
              "    .dataframe tbody tr th:only-of-type {\n",
              "        vertical-align: middle;\n",
              "    }\n",
              "\n",
              "    .dataframe tbody tr th {\n",
              "        vertical-align: top;\n",
              "    }\n",
              "\n",
              "    .dataframe thead th {\n",
              "        text-align: right;\n",
              "    }\n",
              "</style>\n",
              "<table border=\"1\" class=\"dataframe\">\n",
              "  <thead>\n",
              "    <tr style=\"text-align: right;\">\n",
              "      <th></th>\n",
              "      <th>HouseHoldID</th>\n",
              "      <th>LocationCityName</th>\n",
              "      <th>QuarterNumber</th>\n",
              "      <th>MonthNumber</th>\n",
              "      <th>WeekNumber</th>\n",
              "      <th>DayNumberInWeek</th>\n",
              "      <th>DepartmentCode</th>\n",
              "      <th>CategoryCode</th>\n",
              "      <th>GroupCode</th>\n",
              "      <th>CompoundID</th>\n",
              "      <th>ParentProductNumber</th>\n",
              "      <th>BrandIndDesc</th>\n",
              "      <th>BrandName</th>\n",
              "      <th>VendorNumber</th>\n",
              "      <th>UnitOfMeasure</th>\n",
              "      <th>Price</th>\n",
              "      <th>Quantity</th>\n",
              "      <th>cntPrdAll</th>\n",
              "      <th>NetSaleAmountAll</th>\n",
              "      <th>NetSaleNoVatPrdLast3Months</th>\n",
              "      <th>QuantSale</th>\n",
              "      <th>cntMonths</th>\n",
              "      <th>DiscountPerUnit</th>\n",
              "      <th>Energy</th>\n",
              "      <th>Pachmema</th>\n",
              "      <th>Natran</th>\n",
              "      <th>Helbon</th>\n",
              "      <th>Shuman</th>\n",
              "      <th>ShumanRavuy</th>\n",
              "      <th>ShumanTrans</th>\n",
              "      <th>Colastrol</th>\n",
              "      <th>SivimTzunatim</th>\n",
              "      <th>CafiotSucar</th>\n",
              "      <th>DepartmentCodeSubs</th>\n",
              "      <th>CategoryCodeSubs</th>\n",
              "      <th>GroupCodeSubs</th>\n",
              "      <th>CompoundIDSubs</th>\n",
              "      <th>ParentProductNumberSubs</th>\n",
              "      <th>BrandIndDescSubs</th>\n",
              "      <th>BrandNameSubs</th>\n",
              "      <th>...</th>\n",
              "      <th>DiscountPerUnitSubs</th>\n",
              "      <th>EnergySubs</th>\n",
              "      <th>PachmemaSubs</th>\n",
              "      <th>NatranSubs</th>\n",
              "      <th>HelbonSubs</th>\n",
              "      <th>ShumanSubs</th>\n",
              "      <th>ShumanRavuySubs</th>\n",
              "      <th>ShumanTransSubs</th>\n",
              "      <th>ColastrolSubs</th>\n",
              "      <th>SivimTzunatimSubs</th>\n",
              "      <th>CafiotSucarSubs</th>\n",
              "      <th>CorrelateItemStatusCode</th>\n",
              "      <th>isPromo_0</th>\n",
              "      <th>isPromo_1</th>\n",
              "      <th>isPromo_2</th>\n",
              "      <th>PeriodHoliday_0</th>\n",
              "      <th>PeriodHoliday_1</th>\n",
              "      <th>DepartmentCodeDiff</th>\n",
              "      <th>CategoryCodeDiff</th>\n",
              "      <th>GroupCodeDiff</th>\n",
              "      <th>CompoundIDDiff</th>\n",
              "      <th>ParentProductNumberDiff</th>\n",
              "      <th>BrandIndDescDiff</th>\n",
              "      <th>VendorNumberDiff</th>\n",
              "      <th>UnitOfMeasureDiff</th>\n",
              "      <th>PriceDiff</th>\n",
              "      <th>NetSaleNoVatPrdLast3MonthsDiff</th>\n",
              "      <th>EnergyDiff</th>\n",
              "      <th>PachmemaDiff</th>\n",
              "      <th>NatranDiff</th>\n",
              "      <th>HelbonDiff</th>\n",
              "      <th>ShumanDiff</th>\n",
              "      <th>ShumanRavuyDiff</th>\n",
              "      <th>ShumanTransDiff</th>\n",
              "      <th>ColastrolDiff</th>\n",
              "      <th>SivimTzunatimDiff</th>\n",
              "      <th>CafiotSucarDiff</th>\n",
              "      <th>QuantSaleDiff</th>\n",
              "      <th>cntMonthsDiff</th>\n",
              "      <th>DiscountPerUnitDiff</th>\n",
              "    </tr>\n",
              "  </thead>\n",
              "  <tbody>\n",
              "    <tr>\n",
              "      <th>0</th>\n",
              "      <td>1</td>\n",
              "      <td>87</td>\n",
              "      <td>202101</td>\n",
              "      <td>202102</td>\n",
              "      <td>202108</td>\n",
              "      <td>1</td>\n",
              "      <td>10</td>\n",
              "      <td>6</td>\n",
              "      <td>7003</td>\n",
              "      <td>-8000500249352</td>\n",
              "      <td>8000500249352</td>\n",
              "      <td>52</td>\n",
              "      <td>0</td>\n",
              "      <td>914547</td>\n",
              "      <td>0.20</td>\n",
              "      <td>18.90</td>\n",
              "      <td>4</td>\n",
              "      <td>22</td>\n",
              "      <td>800.63</td>\n",
              "      <td>57747.16</td>\n",
              "      <td>0.8</td>\n",
              "      <td>16</td>\n",
              "      <td>0.00</td>\n",
              "      <td>568.0</td>\n",
              "      <td>49.5</td>\n",
              "      <td>107.0</td>\n",
              "      <td>8.6</td>\n",
              "      <td>37.8</td>\n",
              "      <td>17.3</td>\n",
              "      <td>0.5</td>\n",
              "      <td>15.0</td>\n",
              "      <td>0.0</td>\n",
              "      <td>0.00</td>\n",
              "      <td>10</td>\n",
              "      <td>6</td>\n",
              "      <td>7006</td>\n",
              "      <td>-8000500217740</td>\n",
              "      <td>8000500217740</td>\n",
              "      <td>67</td>\n",
              "      <td>0</td>\n",
              "      <td>...</td>\n",
              "      <td>0.0</td>\n",
              "      <td>0.0</td>\n",
              "      <td>0.0</td>\n",
              "      <td>0.0</td>\n",
              "      <td>0.0</td>\n",
              "      <td>0.0</td>\n",
              "      <td>0.0</td>\n",
              "      <td>0.0</td>\n",
              "      <td>0.0</td>\n",
              "      <td>0.0</td>\n",
              "      <td>0.00</td>\n",
              "      <td>1</td>\n",
              "      <td>0</td>\n",
              "      <td>0</td>\n",
              "      <td>1</td>\n",
              "      <td>0</td>\n",
              "      <td>1</td>\n",
              "      <td>0</td>\n",
              "      <td>0</td>\n",
              "      <td>1</td>\n",
              "      <td>1</td>\n",
              "      <td>0</td>\n",
              "      <td>1</td>\n",
              "      <td>0</td>\n",
              "      <td>0.12</td>\n",
              "      <td>9.0</td>\n",
              "      <td>11618.91</td>\n",
              "      <td>568.0</td>\n",
              "      <td>49.5</td>\n",
              "      <td>107.0</td>\n",
              "      <td>8.6</td>\n",
              "      <td>37.8</td>\n",
              "      <td>17.3</td>\n",
              "      <td>0.5</td>\n",
              "      <td>15.0</td>\n",
              "      <td>0.0</td>\n",
              "      <td>0.00</td>\n",
              "      <td>0.0</td>\n",
              "      <td>3</td>\n",
              "      <td>0.00</td>\n",
              "    </tr>\n",
              "    <tr>\n",
              "      <th>1</th>\n",
              "      <td>2</td>\n",
              "      <td>87</td>\n",
              "      <td>202101</td>\n",
              "      <td>202103</td>\n",
              "      <td>202112</td>\n",
              "      <td>1</td>\n",
              "      <td>10</td>\n",
              "      <td>6</td>\n",
              "      <td>6994</td>\n",
              "      <td>2900</td>\n",
              "      <td>178134</td>\n",
              "      <td>44</td>\n",
              "      <td>0</td>\n",
              "      <td>912069</td>\n",
              "      <td>0.40</td>\n",
              "      <td>19.60</td>\n",
              "      <td>1</td>\n",
              "      <td>12</td>\n",
              "      <td>207.30</td>\n",
              "      <td>141798.59</td>\n",
              "      <td>0.6</td>\n",
              "      <td>16</td>\n",
              "      <td>0.00</td>\n",
              "      <td>514.0</td>\n",
              "      <td>51.0</td>\n",
              "      <td>0.0</td>\n",
              "      <td>5.3</td>\n",
              "      <td>31.0</td>\n",
              "      <td>19.2</td>\n",
              "      <td>0.5</td>\n",
              "      <td>0.0</td>\n",
              "      <td>0.0</td>\n",
              "      <td>12.25</td>\n",
              "      <td>10</td>\n",
              "      <td>6</td>\n",
              "      <td>6994</td>\n",
              "      <td>23107</td>\n",
              "      <td>7290100852576</td>\n",
              "      <td>58</td>\n",
              "      <td>0</td>\n",
              "      <td>...</td>\n",
              "      <td>0.0</td>\n",
              "      <td>514.0</td>\n",
              "      <td>51.0</td>\n",
              "      <td>0.0</td>\n",
              "      <td>5.3</td>\n",
              "      <td>31.0</td>\n",
              "      <td>19.2</td>\n",
              "      <td>0.5</td>\n",
              "      <td>0.0</td>\n",
              "      <td>0.0</td>\n",
              "      <td>12.25</td>\n",
              "      <td>1</td>\n",
              "      <td>0</td>\n",
              "      <td>0</td>\n",
              "      <td>1</td>\n",
              "      <td>1</td>\n",
              "      <td>0</td>\n",
              "      <td>0</td>\n",
              "      <td>0</td>\n",
              "      <td>0</td>\n",
              "      <td>1</td>\n",
              "      <td>0</td>\n",
              "      <td>1</td>\n",
              "      <td>0</td>\n",
              "      <td>0.10</td>\n",
              "      <td>9.6</td>\n",
              "      <td>73850.66</td>\n",
              "      <td>0.0</td>\n",
              "      <td>0.0</td>\n",
              "      <td>0.0</td>\n",
              "      <td>0.0</td>\n",
              "      <td>0.0</td>\n",
              "      <td>0.0</td>\n",
              "      <td>0.0</td>\n",
              "      <td>0.0</td>\n",
              "      <td>0.0</td>\n",
              "      <td>0.00</td>\n",
              "      <td>-0.2</td>\n",
              "      <td>1</td>\n",
              "      <td>0.00</td>\n",
              "    </tr>\n",
              "    <tr>\n",
              "      <th>2</th>\n",
              "      <td>3</td>\n",
              "      <td>87</td>\n",
              "      <td>202101</td>\n",
              "      <td>202101</td>\n",
              "      <td>202101</td>\n",
              "      <td>5</td>\n",
              "      <td>10</td>\n",
              "      <td>6</td>\n",
              "      <td>6993</td>\n",
              "      <td>12043</td>\n",
              "      <td>7610400091060</td>\n",
              "      <td>25</td>\n",
              "      <td>0</td>\n",
              "      <td>912317</td>\n",
              "      <td>0.10</td>\n",
              "      <td>14.90</td>\n",
              "      <td>1</td>\n",
              "      <td>69</td>\n",
              "      <td>1813.38</td>\n",
              "      <td>80904.21</td>\n",
              "      <td>0.7</td>\n",
              "      <td>11</td>\n",
              "      <td>2.82</td>\n",
              "      <td>534.0</td>\n",
              "      <td>51.0</td>\n",
              "      <td>34.0</td>\n",
              "      <td>6.9</td>\n",
              "      <td>32.0</td>\n",
              "      <td>17.0</td>\n",
              "      <td>0.5</td>\n",
              "      <td>10.0</td>\n",
              "      <td>0.0</td>\n",
              "      <td>11.50</td>\n",
              "      <td>10</td>\n",
              "      <td>6</td>\n",
              "      <td>6993</td>\n",
              "      <td>36777</td>\n",
              "      <td>8690766156404</td>\n",
              "      <td>16</td>\n",
              "      <td>0</td>\n",
              "      <td>...</td>\n",
              "      <td>0.0</td>\n",
              "      <td>532.0</td>\n",
              "      <td>51.0</td>\n",
              "      <td>21.0</td>\n",
              "      <td>6.5</td>\n",
              "      <td>30.0</td>\n",
              "      <td>18.0</td>\n",
              "      <td>0.5</td>\n",
              "      <td>7.5</td>\n",
              "      <td>7.8</td>\n",
              "      <td>12.00</td>\n",
              "      <td>0</td>\n",
              "      <td>1</td>\n",
              "      <td>0</td>\n",
              "      <td>0</td>\n",
              "      <td>0</td>\n",
              "      <td>1</td>\n",
              "      <td>0</td>\n",
              "      <td>0</td>\n",
              "      <td>0</td>\n",
              "      <td>1</td>\n",
              "      <td>0</td>\n",
              "      <td>1</td>\n",
              "      <td>1</td>\n",
              "      <td>0.01</td>\n",
              "      <td>5.0</td>\n",
              "      <td>60185.72</td>\n",
              "      <td>2.0</td>\n",
              "      <td>0.0</td>\n",
              "      <td>13.0</td>\n",
              "      <td>0.4</td>\n",
              "      <td>2.0</td>\n",
              "      <td>-1.0</td>\n",
              "      <td>0.0</td>\n",
              "      <td>2.5</td>\n",
              "      <td>-7.8</td>\n",
              "      <td>-0.50</td>\n",
              "      <td>-0.3</td>\n",
              "      <td>-2</td>\n",
              "      <td>2.82</td>\n",
              "    </tr>\n",
              "    <tr>\n",
              "      <th>3</th>\n",
              "      <td>4</td>\n",
              "      <td>87</td>\n",
              "      <td>202101</td>\n",
              "      <td>202101</td>\n",
              "      <td>202104</td>\n",
              "      <td>5</td>\n",
              "      <td>10</td>\n",
              "      <td>6</td>\n",
              "      <td>6992</td>\n",
              "      <td>8579</td>\n",
              "      <td>7290112490124</td>\n",
              "      <td>53</td>\n",
              "      <td>0</td>\n",
              "      <td>912268</td>\n",
              "      <td>0.09</td>\n",
              "      <td>2.95</td>\n",
              "      <td>1</td>\n",
              "      <td>54</td>\n",
              "      <td>924.45</td>\n",
              "      <td>18277.75</td>\n",
              "      <td>1.0</td>\n",
              "      <td>14</td>\n",
              "      <td>0.90</td>\n",
              "      <td>527.0</td>\n",
              "      <td>67.4</td>\n",
              "      <td>117.0</td>\n",
              "      <td>7.4</td>\n",
              "      <td>25.3</td>\n",
              "      <td>16.3</td>\n",
              "      <td>0.5</td>\n",
              "      <td>11.0</td>\n",
              "      <td>0.0</td>\n",
              "      <td>12.75</td>\n",
              "      <td>10</td>\n",
              "      <td>6</td>\n",
              "      <td>6992</td>\n",
              "      <td>8579</td>\n",
              "      <td>7290107649605</td>\n",
              "      <td>69</td>\n",
              "      <td>0</td>\n",
              "      <td>...</td>\n",
              "      <td>0.0</td>\n",
              "      <td>506.0</td>\n",
              "      <td>64.2</td>\n",
              "      <td>132.0</td>\n",
              "      <td>8.1</td>\n",
              "      <td>24.1</td>\n",
              "      <td>14.9</td>\n",
              "      <td>0.5</td>\n",
              "      <td>8.0</td>\n",
              "      <td>0.0</td>\n",
              "      <td>12.50</td>\n",
              "      <td>1</td>\n",
              "      <td>1</td>\n",
              "      <td>0</td>\n",
              "      <td>0</td>\n",
              "      <td>1</td>\n",
              "      <td>0</td>\n",
              "      <td>0</td>\n",
              "      <td>0</td>\n",
              "      <td>0</td>\n",
              "      <td>0</td>\n",
              "      <td>0</td>\n",
              "      <td>1</td>\n",
              "      <td>0</td>\n",
              "      <td>0.00</td>\n",
              "      <td>0.0</td>\n",
              "      <td>-14013.27</td>\n",
              "      <td>21.0</td>\n",
              "      <td>3.2</td>\n",
              "      <td>-15.0</td>\n",
              "      <td>-0.7</td>\n",
              "      <td>1.2</td>\n",
              "      <td>1.4</td>\n",
              "      <td>0.0</td>\n",
              "      <td>3.0</td>\n",
              "      <td>0.0</td>\n",
              "      <td>0.25</td>\n",
              "      <td>0.1</td>\n",
              "      <td>-2</td>\n",
              "      <td>0.90</td>\n",
              "    </tr>\n",
              "    <tr>\n",
              "      <th>4</th>\n",
              "      <td>5</td>\n",
              "      <td>87</td>\n",
              "      <td>202101</td>\n",
              "      <td>202102</td>\n",
              "      <td>202105</td>\n",
              "      <td>5</td>\n",
              "      <td>10</td>\n",
              "      <td>6</td>\n",
              "      <td>6993</td>\n",
              "      <td>30727</td>\n",
              "      <td>7296073382416</td>\n",
              "      <td>55</td>\n",
              "      <td>1</td>\n",
              "      <td>913725</td>\n",
              "      <td>0.10</td>\n",
              "      <td>8.00</td>\n",
              "      <td>4</td>\n",
              "      <td>69</td>\n",
              "      <td>1468.61</td>\n",
              "      <td>45785.99</td>\n",
              "      <td>0.8</td>\n",
              "      <td>16</td>\n",
              "      <td>1.86</td>\n",
              "      <td>607.0</td>\n",
              "      <td>13.0</td>\n",
              "      <td>10.0</td>\n",
              "      <td>11.0</td>\n",
              "      <td>53.0</td>\n",
              "      <td>32.0</td>\n",
              "      <td>0.5</td>\n",
              "      <td>0.0</td>\n",
              "      <td>17.0</td>\n",
              "      <td>2.00</td>\n",
              "      <td>10</td>\n",
              "      <td>6</td>\n",
              "      <td>6993</td>\n",
              "      <td>30727</td>\n",
              "      <td>7296073237631</td>\n",
              "      <td>71</td>\n",
              "      <td>1</td>\n",
              "      <td>...</td>\n",
              "      <td>0.0</td>\n",
              "      <td>603.0</td>\n",
              "      <td>23.0</td>\n",
              "      <td>10.0</td>\n",
              "      <td>8.7</td>\n",
              "      <td>50.0</td>\n",
              "      <td>30.0</td>\n",
              "      <td>0.5</td>\n",
              "      <td>0.0</td>\n",
              "      <td>13.0</td>\n",
              "      <td>4.50</td>\n",
              "      <td>1</td>\n",
              "      <td>1</td>\n",
              "      <td>0</td>\n",
              "      <td>0</td>\n",
              "      <td>0</td>\n",
              "      <td>1</td>\n",
              "      <td>0</td>\n",
              "      <td>0</td>\n",
              "      <td>0</td>\n",
              "      <td>0</td>\n",
              "      <td>0</td>\n",
              "      <td>1</td>\n",
              "      <td>0</td>\n",
              "      <td>0.00</td>\n",
              "      <td>0.0</td>\n",
              "      <td>4438.43</td>\n",
              "      <td>4.0</td>\n",
              "      <td>-10.0</td>\n",
              "      <td>0.0</td>\n",
              "      <td>2.3</td>\n",
              "      <td>3.0</td>\n",
              "      <td>2.0</td>\n",
              "      <td>0.0</td>\n",
              "      <td>0.0</td>\n",
              "      <td>4.0</td>\n",
              "      <td>-2.50</td>\n",
              "      <td>-0.1</td>\n",
              "      <td>0</td>\n",
              "      <td>1.86</td>\n",
              "    </tr>\n",
              "  </tbody>\n",
              "</table>\n",
              "<p>5 rows × 86 columns</p>\n",
              "</div>"
            ],
            "text/plain": [
              "   HouseHoldID  LocationCityName  ...  cntMonthsDiff  DiscountPerUnitDiff\n",
              "0            1                87  ...              3                 0.00\n",
              "1            2                87  ...              1                 0.00\n",
              "2            3                87  ...             -2                 2.82\n",
              "3            4                87  ...             -2                 0.90\n",
              "4            5                87  ...              0                 1.86\n",
              "\n",
              "[5 rows x 86 columns]"
            ]
          },
          "metadata": {
            "tags": []
          }
        }
      ]
    },
    {
      "cell_type": "markdown",
      "metadata": {
        "id": "4wii-OJ3actf"
      },
      "source": [
        "## Calc Ratio vector - no change in results\n",
        "\n",
        "note: changes affects only columns that are not categorical because those we change to 0/1 in the 2nd step below"
      ]
    },
    {
      "cell_type": "code",
      "metadata": {
        "id": "EQQMwwycamcO"
      },
      "source": [
        "if RAW and RATIO:\n",
        "  id = 'Ratio'\n",
        "  df = df_t.copy()\n",
        "  df.head()"
      ],
      "execution_count": 171,
      "outputs": []
    },
    {
      "cell_type": "code",
      "metadata": {
        "id": "SiDef8Epactl"
      },
      "source": [
        "if RAW and RATIO:\n",
        "  for col in ['DepartmentCode', 'CategoryCode', 'GroupCode', #'SubGroupCode',\n",
        "       'CompoundID', 'ParentProductNumber', 'BrandIndDesc',\n",
        "       'VendorNumber', 'UnitOfMeasure', 'Price', 'NetSaleNoVatPrdLast3Months', 'Energy', 'Pachmema',\n",
        "       'Natran', 'Helbon', 'Shuman', 'ShumanRavuy', 'ShumanTrans', 'Colastrol',\n",
        "       'SivimTzunatim', 'CafiotSucar', 'QuantSale', 'cntMonths', 'DiscountPerUnit']:\n",
        "    df[col + 'Ratio'] = df.apply(lambda row: 999 if row[col + 'Subs'] == 0 else row[col] / row[col + 'Subs'], axis=1)"
      ],
      "execution_count": 133,
      "outputs": []
    },
    {
      "cell_type": "code",
      "metadata": {
        "id": "LnjF3VQ5actn"
      },
      "source": [
        "if RAW and RATIO:\n",
        "  for col in ['DepartmentCode', 'CategoryCode', 'GroupCode', #'SubGroupCode',\n",
        "       'CompoundID', 'ParentProductNumber', 'VendorNumber', 'BrandIndDesc']:\n",
        "    df[col + 'Ratio'] = (df[col + 'Ratio'] != 1.0)\n",
        "    df[col + 'Ratio'] = enc.fit_transform(df[col + 'Ratio'])"
      ],
      "execution_count": 134,
      "outputs": []
    },
    {
      "cell_type": "code",
      "metadata": {
        "id": "Np4Z8eadacto"
      },
      "source": [
        "if RAW and RATIO:\n",
        "  df.to_csv(\"Shufersal_with_ratio.csv\", index = False)"
      ],
      "execution_count": 135,
      "outputs": []
    },
    {
      "cell_type": "code",
      "metadata": {
        "id": "8SXSVUsgactq"
      },
      "source": [
        "if RAW and RATIO:\n",
        "  df_ratio = pd.read_csv('Shufersal_with_ratio.csv', index_col=False)\n",
        "  p(df_ratio.shape)"
      ],
      "execution_count": 136,
      "outputs": []
    },
    {
      "cell_type": "code",
      "metadata": {
        "id": "XGFae_cDactr"
      },
      "source": [
        "if RAW and RATIO:\n",
        "  d(df_ratio.head())"
      ],
      "execution_count": 137,
      "outputs": []
    },
    {
      "cell_type": "markdown",
      "metadata": {
        "id": "tiuNqyZC-vgr"
      },
      "source": [
        "## Calc Relative Error - no change in results\n",
        "\n",
        "note: changes affects only columns that are not categorical because those we change to 0/1 in the 2nd step below"
      ]
    },
    {
      "cell_type": "code",
      "metadata": {
        "id": "Yz32ftMT-vhl"
      },
      "source": [
        "if RAW and REL:\n",
        "  id = 'Rel'\n",
        "  df = df_t.copy()\n",
        "  df.head()"
      ],
      "execution_count": 170,
      "outputs": []
    },
    {
      "cell_type": "code",
      "metadata": {
        "id": "-0Zq7y29-vhp"
      },
      "source": [
        "if RAW and REL:\n",
        "  for col in ['DepartmentCode', 'CategoryCode', 'GroupCode', #'SubGroupCode',\n",
        "       'CompoundID', 'ParentProductNumber', 'BrandIndDesc',\n",
        "       'VendorNumber', 'UnitOfMeasure', 'Price', 'NetSaleNoVatPrdLast3Months', 'Energy', 'Pachmema',\n",
        "       'Natran', 'Helbon', 'Shuman', 'ShumanRavuy', 'ShumanTrans', 'Colastrol',\n",
        "       'SivimTzunatim', 'CafiotSucar', 'QuantSale', 'cntMonths', 'DiscountPerUnit']:\n",
        "    df[col + 'RelErr'] = df.apply(lambda row: 1 if row[col] == 0 else (row[col] - row[col + 'Subs']) / row[col], axis=1)"
      ],
      "execution_count": 139,
      "outputs": []
    },
    {
      "cell_type": "code",
      "metadata": {
        "id": "NGoqg7wx-vhs"
      },
      "source": [
        "if RAW and REL:\n",
        "  for col in ['DepartmentCode', 'CategoryCode', 'GroupCode', #'SubGroupCode',\n",
        "       'CompoundID', 'ParentProductNumber', 'VendorNumber', 'BrandIndDesc']:\n",
        "    df[col + 'RelErr'] = (df[col + 'RelErr'] != 0.0)\n",
        "    df[col + 'RelErr'] = enc.fit_transform(df[col + 'RelErr'])"
      ],
      "execution_count": 140,
      "outputs": []
    },
    {
      "cell_type": "code",
      "metadata": {
        "id": "J6KDYFGa-vhu"
      },
      "source": [
        "if RAW and REL:\n",
        "  df.to_csv(\"Shufersal_with_rel_error.csv\", index = False)"
      ],
      "execution_count": 141,
      "outputs": []
    },
    {
      "cell_type": "code",
      "metadata": {
        "id": "POnQM7Uv-vh0"
      },
      "source": [
        "if RAW and REL:\n",
        "  df_rel_error = pd.read_csv('Shufersal_with_rel_error.csv', index_col=False)\n",
        "  p(df_rel_error.shape)"
      ],
      "execution_count": 142,
      "outputs": []
    },
    {
      "cell_type": "code",
      "metadata": {
        "id": "JreYWRN5-viM"
      },
      "source": [
        "if RAW and REL:\n",
        "  d(df_rel_error.head())"
      ],
      "execution_count": 143,
      "outputs": []
    },
    {
      "cell_type": "markdown",
      "metadata": {
        "id": "bWMLTqJmOsbW"
      },
      "source": [
        "# Get ready Data"
      ]
    },
    {
      "cell_type": "code",
      "metadata": {
        "id": "1OCp8pIhBFE_"
      },
      "source": [
        "if not RAW and DIFF:\n",
        "  #get_raw('Shufersal_with_diff')"
      ],
      "execution_count": 144,
      "outputs": []
    },
    {
      "cell_type": "code",
      "metadata": {
        "colab": {
          "base_uri": "https://localhost:8080/",
          "height": 270
        },
        "id": "eRMl2lJ0BiXV",
        "outputId": "377296bb-9792-4402-9d07-d1f8963953a6"
      },
      "source": [
        "#if not RAW: - so not to use df_ratio\n",
        "if DIFF:\n",
        "  df = pd.read_csv('Shufersal_with_diff.csv', encoding='ISO-8859-8')\n",
        "elif RATIO:\n",
        "  df = pd.read_csv('Shufersal_with_ratio.csv', encoding='ISO-8859-8')\n",
        "else:\n",
        "  df = pd.read_csv('Shufersal_with_rel_error.csv', encoding='ISO-8859-8')\n",
        "p(df.shape)\n",
        "d(df.head())"
      ],
      "execution_count": 145,
      "outputs": [
        {
          "output_type": "stream",
          "text": [
            "(54460, 86)\n"
          ],
          "name": "stdout"
        },
        {
          "output_type": "display_data",
          "data": {
            "text/html": [
              "<div>\n",
              "<style scoped>\n",
              "    .dataframe tbody tr th:only-of-type {\n",
              "        vertical-align: middle;\n",
              "    }\n",
              "\n",
              "    .dataframe tbody tr th {\n",
              "        vertical-align: top;\n",
              "    }\n",
              "\n",
              "    .dataframe thead th {\n",
              "        text-align: right;\n",
              "    }\n",
              "</style>\n",
              "<table border=\"1\" class=\"dataframe\">\n",
              "  <thead>\n",
              "    <tr style=\"text-align: right;\">\n",
              "      <th></th>\n",
              "      <th>HouseHoldID</th>\n",
              "      <th>LocationCityName</th>\n",
              "      <th>QuarterNumber</th>\n",
              "      <th>MonthNumber</th>\n",
              "      <th>WeekNumber</th>\n",
              "      <th>DayNumberInWeek</th>\n",
              "      <th>DepartmentCode</th>\n",
              "      <th>CategoryCode</th>\n",
              "      <th>GroupCode</th>\n",
              "      <th>CompoundID</th>\n",
              "      <th>ParentProductNumber</th>\n",
              "      <th>BrandIndDesc</th>\n",
              "      <th>BrandName</th>\n",
              "      <th>VendorNumber</th>\n",
              "      <th>UnitOfMeasure</th>\n",
              "      <th>Price</th>\n",
              "      <th>Quantity</th>\n",
              "      <th>cntPrdAll</th>\n",
              "      <th>NetSaleAmountAll</th>\n",
              "      <th>NetSaleNoVatPrdLast3Months</th>\n",
              "      <th>QuantSale</th>\n",
              "      <th>cntMonths</th>\n",
              "      <th>DiscountPerUnit</th>\n",
              "      <th>Energy</th>\n",
              "      <th>Pachmema</th>\n",
              "      <th>Natran</th>\n",
              "      <th>Helbon</th>\n",
              "      <th>Shuman</th>\n",
              "      <th>ShumanRavuy</th>\n",
              "      <th>ShumanTrans</th>\n",
              "      <th>Colastrol</th>\n",
              "      <th>SivimTzunatim</th>\n",
              "      <th>CafiotSucar</th>\n",
              "      <th>DepartmentCodeSubs</th>\n",
              "      <th>CategoryCodeSubs</th>\n",
              "      <th>GroupCodeSubs</th>\n",
              "      <th>CompoundIDSubs</th>\n",
              "      <th>ParentProductNumberSubs</th>\n",
              "      <th>BrandIndDescSubs</th>\n",
              "      <th>BrandNameSubs</th>\n",
              "      <th>...</th>\n",
              "      <th>DiscountPerUnitSubs</th>\n",
              "      <th>EnergySubs</th>\n",
              "      <th>PachmemaSubs</th>\n",
              "      <th>NatranSubs</th>\n",
              "      <th>HelbonSubs</th>\n",
              "      <th>ShumanSubs</th>\n",
              "      <th>ShumanRavuySubs</th>\n",
              "      <th>ShumanTransSubs</th>\n",
              "      <th>ColastrolSubs</th>\n",
              "      <th>SivimTzunatimSubs</th>\n",
              "      <th>CafiotSucarSubs</th>\n",
              "      <th>CorrelateItemStatusCode</th>\n",
              "      <th>isPromo_0</th>\n",
              "      <th>isPromo_1</th>\n",
              "      <th>isPromo_2</th>\n",
              "      <th>PeriodHoliday_0</th>\n",
              "      <th>PeriodHoliday_1</th>\n",
              "      <th>DepartmentCodeDiff</th>\n",
              "      <th>CategoryCodeDiff</th>\n",
              "      <th>GroupCodeDiff</th>\n",
              "      <th>CompoundIDDiff</th>\n",
              "      <th>ParentProductNumberDiff</th>\n",
              "      <th>BrandIndDescDiff</th>\n",
              "      <th>VendorNumberDiff</th>\n",
              "      <th>UnitOfMeasureDiff</th>\n",
              "      <th>PriceDiff</th>\n",
              "      <th>NetSaleNoVatPrdLast3MonthsDiff</th>\n",
              "      <th>EnergyDiff</th>\n",
              "      <th>PachmemaDiff</th>\n",
              "      <th>NatranDiff</th>\n",
              "      <th>HelbonDiff</th>\n",
              "      <th>ShumanDiff</th>\n",
              "      <th>ShumanRavuyDiff</th>\n",
              "      <th>ShumanTransDiff</th>\n",
              "      <th>ColastrolDiff</th>\n",
              "      <th>SivimTzunatimDiff</th>\n",
              "      <th>CafiotSucarDiff</th>\n",
              "      <th>QuantSaleDiff</th>\n",
              "      <th>cntMonthsDiff</th>\n",
              "      <th>DiscountPerUnitDiff</th>\n",
              "    </tr>\n",
              "  </thead>\n",
              "  <tbody>\n",
              "    <tr>\n",
              "      <th>0</th>\n",
              "      <td>1</td>\n",
              "      <td>87</td>\n",
              "      <td>202101</td>\n",
              "      <td>202102</td>\n",
              "      <td>202108</td>\n",
              "      <td>1</td>\n",
              "      <td>10</td>\n",
              "      <td>6</td>\n",
              "      <td>7003</td>\n",
              "      <td>-8000500249352</td>\n",
              "      <td>8000500249352</td>\n",
              "      <td>52</td>\n",
              "      <td>0</td>\n",
              "      <td>914547</td>\n",
              "      <td>0.20</td>\n",
              "      <td>18.90</td>\n",
              "      <td>4</td>\n",
              "      <td>22</td>\n",
              "      <td>800.63</td>\n",
              "      <td>57747.16</td>\n",
              "      <td>0.8</td>\n",
              "      <td>16</td>\n",
              "      <td>0.00</td>\n",
              "      <td>568.0</td>\n",
              "      <td>49.5</td>\n",
              "      <td>107.0</td>\n",
              "      <td>8.6</td>\n",
              "      <td>37.8</td>\n",
              "      <td>17.3</td>\n",
              "      <td>0.5</td>\n",
              "      <td>15.0</td>\n",
              "      <td>0.0</td>\n",
              "      <td>0.00</td>\n",
              "      <td>10</td>\n",
              "      <td>6</td>\n",
              "      <td>7006</td>\n",
              "      <td>-8000500217740</td>\n",
              "      <td>8000500217740</td>\n",
              "      <td>67</td>\n",
              "      <td>0</td>\n",
              "      <td>...</td>\n",
              "      <td>0.0</td>\n",
              "      <td>0.0</td>\n",
              "      <td>0.0</td>\n",
              "      <td>0.0</td>\n",
              "      <td>0.0</td>\n",
              "      <td>0.0</td>\n",
              "      <td>0.0</td>\n",
              "      <td>0.0</td>\n",
              "      <td>0.0</td>\n",
              "      <td>0.0</td>\n",
              "      <td>0.00</td>\n",
              "      <td>1</td>\n",
              "      <td>0</td>\n",
              "      <td>0</td>\n",
              "      <td>1</td>\n",
              "      <td>0</td>\n",
              "      <td>1</td>\n",
              "      <td>0</td>\n",
              "      <td>0</td>\n",
              "      <td>1</td>\n",
              "      <td>1</td>\n",
              "      <td>0</td>\n",
              "      <td>1</td>\n",
              "      <td>0</td>\n",
              "      <td>0.12</td>\n",
              "      <td>9.0</td>\n",
              "      <td>11618.91</td>\n",
              "      <td>568.0</td>\n",
              "      <td>49.5</td>\n",
              "      <td>107.0</td>\n",
              "      <td>8.6</td>\n",
              "      <td>37.8</td>\n",
              "      <td>17.3</td>\n",
              "      <td>0.5</td>\n",
              "      <td>15.0</td>\n",
              "      <td>0.0</td>\n",
              "      <td>0.00</td>\n",
              "      <td>0.0</td>\n",
              "      <td>3</td>\n",
              "      <td>0.00</td>\n",
              "    </tr>\n",
              "    <tr>\n",
              "      <th>1</th>\n",
              "      <td>2</td>\n",
              "      <td>87</td>\n",
              "      <td>202101</td>\n",
              "      <td>202103</td>\n",
              "      <td>202112</td>\n",
              "      <td>1</td>\n",
              "      <td>10</td>\n",
              "      <td>6</td>\n",
              "      <td>6994</td>\n",
              "      <td>2900</td>\n",
              "      <td>178134</td>\n",
              "      <td>44</td>\n",
              "      <td>0</td>\n",
              "      <td>912069</td>\n",
              "      <td>0.40</td>\n",
              "      <td>19.60</td>\n",
              "      <td>1</td>\n",
              "      <td>12</td>\n",
              "      <td>207.30</td>\n",
              "      <td>141798.59</td>\n",
              "      <td>0.6</td>\n",
              "      <td>16</td>\n",
              "      <td>0.00</td>\n",
              "      <td>514.0</td>\n",
              "      <td>51.0</td>\n",
              "      <td>0.0</td>\n",
              "      <td>5.3</td>\n",
              "      <td>31.0</td>\n",
              "      <td>19.2</td>\n",
              "      <td>0.5</td>\n",
              "      <td>0.0</td>\n",
              "      <td>0.0</td>\n",
              "      <td>12.25</td>\n",
              "      <td>10</td>\n",
              "      <td>6</td>\n",
              "      <td>6994</td>\n",
              "      <td>23107</td>\n",
              "      <td>7290100852576</td>\n",
              "      <td>58</td>\n",
              "      <td>0</td>\n",
              "      <td>...</td>\n",
              "      <td>0.0</td>\n",
              "      <td>514.0</td>\n",
              "      <td>51.0</td>\n",
              "      <td>0.0</td>\n",
              "      <td>5.3</td>\n",
              "      <td>31.0</td>\n",
              "      <td>19.2</td>\n",
              "      <td>0.5</td>\n",
              "      <td>0.0</td>\n",
              "      <td>0.0</td>\n",
              "      <td>12.25</td>\n",
              "      <td>1</td>\n",
              "      <td>0</td>\n",
              "      <td>0</td>\n",
              "      <td>1</td>\n",
              "      <td>1</td>\n",
              "      <td>0</td>\n",
              "      <td>0</td>\n",
              "      <td>0</td>\n",
              "      <td>0</td>\n",
              "      <td>1</td>\n",
              "      <td>0</td>\n",
              "      <td>1</td>\n",
              "      <td>0</td>\n",
              "      <td>0.10</td>\n",
              "      <td>9.6</td>\n",
              "      <td>73850.66</td>\n",
              "      <td>0.0</td>\n",
              "      <td>0.0</td>\n",
              "      <td>0.0</td>\n",
              "      <td>0.0</td>\n",
              "      <td>0.0</td>\n",
              "      <td>0.0</td>\n",
              "      <td>0.0</td>\n",
              "      <td>0.0</td>\n",
              "      <td>0.0</td>\n",
              "      <td>0.00</td>\n",
              "      <td>-0.2</td>\n",
              "      <td>1</td>\n",
              "      <td>0.00</td>\n",
              "    </tr>\n",
              "    <tr>\n",
              "      <th>2</th>\n",
              "      <td>3</td>\n",
              "      <td>87</td>\n",
              "      <td>202101</td>\n",
              "      <td>202101</td>\n",
              "      <td>202101</td>\n",
              "      <td>5</td>\n",
              "      <td>10</td>\n",
              "      <td>6</td>\n",
              "      <td>6993</td>\n",
              "      <td>12043</td>\n",
              "      <td>7610400091060</td>\n",
              "      <td>25</td>\n",
              "      <td>0</td>\n",
              "      <td>912317</td>\n",
              "      <td>0.10</td>\n",
              "      <td>14.90</td>\n",
              "      <td>1</td>\n",
              "      <td>69</td>\n",
              "      <td>1813.38</td>\n",
              "      <td>80904.21</td>\n",
              "      <td>0.7</td>\n",
              "      <td>11</td>\n",
              "      <td>2.82</td>\n",
              "      <td>534.0</td>\n",
              "      <td>51.0</td>\n",
              "      <td>34.0</td>\n",
              "      <td>6.9</td>\n",
              "      <td>32.0</td>\n",
              "      <td>17.0</td>\n",
              "      <td>0.5</td>\n",
              "      <td>10.0</td>\n",
              "      <td>0.0</td>\n",
              "      <td>11.50</td>\n",
              "      <td>10</td>\n",
              "      <td>6</td>\n",
              "      <td>6993</td>\n",
              "      <td>36777</td>\n",
              "      <td>8690766156404</td>\n",
              "      <td>16</td>\n",
              "      <td>0</td>\n",
              "      <td>...</td>\n",
              "      <td>0.0</td>\n",
              "      <td>532.0</td>\n",
              "      <td>51.0</td>\n",
              "      <td>21.0</td>\n",
              "      <td>6.5</td>\n",
              "      <td>30.0</td>\n",
              "      <td>18.0</td>\n",
              "      <td>0.5</td>\n",
              "      <td>7.5</td>\n",
              "      <td>7.8</td>\n",
              "      <td>12.00</td>\n",
              "      <td>0</td>\n",
              "      <td>1</td>\n",
              "      <td>0</td>\n",
              "      <td>0</td>\n",
              "      <td>0</td>\n",
              "      <td>1</td>\n",
              "      <td>0</td>\n",
              "      <td>0</td>\n",
              "      <td>0</td>\n",
              "      <td>1</td>\n",
              "      <td>0</td>\n",
              "      <td>1</td>\n",
              "      <td>1</td>\n",
              "      <td>0.01</td>\n",
              "      <td>5.0</td>\n",
              "      <td>60185.72</td>\n",
              "      <td>2.0</td>\n",
              "      <td>0.0</td>\n",
              "      <td>13.0</td>\n",
              "      <td>0.4</td>\n",
              "      <td>2.0</td>\n",
              "      <td>-1.0</td>\n",
              "      <td>0.0</td>\n",
              "      <td>2.5</td>\n",
              "      <td>-7.8</td>\n",
              "      <td>-0.50</td>\n",
              "      <td>-0.3</td>\n",
              "      <td>-2</td>\n",
              "      <td>2.82</td>\n",
              "    </tr>\n",
              "    <tr>\n",
              "      <th>3</th>\n",
              "      <td>4</td>\n",
              "      <td>87</td>\n",
              "      <td>202101</td>\n",
              "      <td>202101</td>\n",
              "      <td>202104</td>\n",
              "      <td>5</td>\n",
              "      <td>10</td>\n",
              "      <td>6</td>\n",
              "      <td>6992</td>\n",
              "      <td>8579</td>\n",
              "      <td>7290112490124</td>\n",
              "      <td>53</td>\n",
              "      <td>0</td>\n",
              "      <td>912268</td>\n",
              "      <td>0.09</td>\n",
              "      <td>2.95</td>\n",
              "      <td>1</td>\n",
              "      <td>54</td>\n",
              "      <td>924.45</td>\n",
              "      <td>18277.75</td>\n",
              "      <td>1.0</td>\n",
              "      <td>14</td>\n",
              "      <td>0.90</td>\n",
              "      <td>527.0</td>\n",
              "      <td>67.4</td>\n",
              "      <td>117.0</td>\n",
              "      <td>7.4</td>\n",
              "      <td>25.3</td>\n",
              "      <td>16.3</td>\n",
              "      <td>0.5</td>\n",
              "      <td>11.0</td>\n",
              "      <td>0.0</td>\n",
              "      <td>12.75</td>\n",
              "      <td>10</td>\n",
              "      <td>6</td>\n",
              "      <td>6992</td>\n",
              "      <td>8579</td>\n",
              "      <td>7290107649605</td>\n",
              "      <td>69</td>\n",
              "      <td>0</td>\n",
              "      <td>...</td>\n",
              "      <td>0.0</td>\n",
              "      <td>506.0</td>\n",
              "      <td>64.2</td>\n",
              "      <td>132.0</td>\n",
              "      <td>8.1</td>\n",
              "      <td>24.1</td>\n",
              "      <td>14.9</td>\n",
              "      <td>0.5</td>\n",
              "      <td>8.0</td>\n",
              "      <td>0.0</td>\n",
              "      <td>12.50</td>\n",
              "      <td>1</td>\n",
              "      <td>1</td>\n",
              "      <td>0</td>\n",
              "      <td>0</td>\n",
              "      <td>1</td>\n",
              "      <td>0</td>\n",
              "      <td>0</td>\n",
              "      <td>0</td>\n",
              "      <td>0</td>\n",
              "      <td>0</td>\n",
              "      <td>0</td>\n",
              "      <td>1</td>\n",
              "      <td>0</td>\n",
              "      <td>0.00</td>\n",
              "      <td>0.0</td>\n",
              "      <td>-14013.27</td>\n",
              "      <td>21.0</td>\n",
              "      <td>3.2</td>\n",
              "      <td>-15.0</td>\n",
              "      <td>-0.7</td>\n",
              "      <td>1.2</td>\n",
              "      <td>1.4</td>\n",
              "      <td>0.0</td>\n",
              "      <td>3.0</td>\n",
              "      <td>0.0</td>\n",
              "      <td>0.25</td>\n",
              "      <td>0.1</td>\n",
              "      <td>-2</td>\n",
              "      <td>0.90</td>\n",
              "    </tr>\n",
              "    <tr>\n",
              "      <th>4</th>\n",
              "      <td>5</td>\n",
              "      <td>87</td>\n",
              "      <td>202101</td>\n",
              "      <td>202102</td>\n",
              "      <td>202105</td>\n",
              "      <td>5</td>\n",
              "      <td>10</td>\n",
              "      <td>6</td>\n",
              "      <td>6993</td>\n",
              "      <td>30727</td>\n",
              "      <td>7296073382416</td>\n",
              "      <td>55</td>\n",
              "      <td>1</td>\n",
              "      <td>913725</td>\n",
              "      <td>0.10</td>\n",
              "      <td>8.00</td>\n",
              "      <td>4</td>\n",
              "      <td>69</td>\n",
              "      <td>1468.61</td>\n",
              "      <td>45785.99</td>\n",
              "      <td>0.8</td>\n",
              "      <td>16</td>\n",
              "      <td>1.86</td>\n",
              "      <td>607.0</td>\n",
              "      <td>13.0</td>\n",
              "      <td>10.0</td>\n",
              "      <td>11.0</td>\n",
              "      <td>53.0</td>\n",
              "      <td>32.0</td>\n",
              "      <td>0.5</td>\n",
              "      <td>0.0</td>\n",
              "      <td>17.0</td>\n",
              "      <td>2.00</td>\n",
              "      <td>10</td>\n",
              "      <td>6</td>\n",
              "      <td>6993</td>\n",
              "      <td>30727</td>\n",
              "      <td>7296073237631</td>\n",
              "      <td>71</td>\n",
              "      <td>1</td>\n",
              "      <td>...</td>\n",
              "      <td>0.0</td>\n",
              "      <td>603.0</td>\n",
              "      <td>23.0</td>\n",
              "      <td>10.0</td>\n",
              "      <td>8.7</td>\n",
              "      <td>50.0</td>\n",
              "      <td>30.0</td>\n",
              "      <td>0.5</td>\n",
              "      <td>0.0</td>\n",
              "      <td>13.0</td>\n",
              "      <td>4.50</td>\n",
              "      <td>1</td>\n",
              "      <td>1</td>\n",
              "      <td>0</td>\n",
              "      <td>0</td>\n",
              "      <td>0</td>\n",
              "      <td>1</td>\n",
              "      <td>0</td>\n",
              "      <td>0</td>\n",
              "      <td>0</td>\n",
              "      <td>0</td>\n",
              "      <td>0</td>\n",
              "      <td>1</td>\n",
              "      <td>0</td>\n",
              "      <td>0.00</td>\n",
              "      <td>0.0</td>\n",
              "      <td>4438.43</td>\n",
              "      <td>4.0</td>\n",
              "      <td>-10.0</td>\n",
              "      <td>0.0</td>\n",
              "      <td>2.3</td>\n",
              "      <td>3.0</td>\n",
              "      <td>2.0</td>\n",
              "      <td>0.0</td>\n",
              "      <td>0.0</td>\n",
              "      <td>4.0</td>\n",
              "      <td>-2.50</td>\n",
              "      <td>-0.1</td>\n",
              "      <td>0</td>\n",
              "      <td>1.86</td>\n",
              "    </tr>\n",
              "  </tbody>\n",
              "</table>\n",
              "<p>5 rows × 86 columns</p>\n",
              "</div>"
            ],
            "text/plain": [
              "   HouseHoldID  LocationCityName  ...  cntMonthsDiff  DiscountPerUnitDiff\n",
              "0            1                87  ...              3                 0.00\n",
              "1            2                87  ...              1                 0.00\n",
              "2            3                87  ...             -2                 2.82\n",
              "3            4                87  ...             -2                 0.90\n",
              "4            5                87  ...              0                 1.86\n",
              "\n",
              "[5 rows x 86 columns]"
            ]
          },
          "metadata": {
            "tags": []
          }
        }
      ]
    },
    {
      "cell_type": "code",
      "metadata": {
        "id": "6uuajDOj_Zc2",
        "outputId": "62b9a9d7-3e30-4945-de1d-6f23010c79c5",
        "colab": {
          "base_uri": "https://localhost:8080/"
        }
      },
      "source": [
        "(df.HouseHoldID.value_counts() > 9).sum()"
      ],
      "execution_count": 177,
      "outputs": [
        {
          "output_type": "execute_result",
          "data": {
            "text/plain": [
              "57"
            ]
          },
          "metadata": {
            "tags": []
          },
          "execution_count": 177
        }
      ]
    },
    {
      "cell_type": "markdown",
      "metadata": {
        "id": "N27b5TlMH14F"
      },
      "source": [
        "# Models"
      ]
    },
    {
      "cell_type": "code",
      "metadata": {
        "id": "6rVRpGZCICWb"
      },
      "source": [
        "from sklearn.model_selection import train_test_split, GridSearchCV, cross_val_score\n",
        "\n",
        "X = df.drop('CorrelateItemStatusCode', axis=1)\n",
        "y = df.CorrelateItemStatusCode.astype(int)\n",
        "\n",
        "X_train, X_test, y_train, y_test = train_test_split(X, y, train_size=0.7, random_state=0)"
      ],
      "execution_count": 146,
      "outputs": []
    },
    {
      "cell_type": "markdown",
      "metadata": {
        "id": "llO_t3lhE27d"
      },
      "source": [
        "## Models - split base on date - No change in result"
      ]
    },
    {
      "cell_type": "code",
      "metadata": {
        "id": "8IO1EhK-E1gh"
      },
      "source": [
        "DATE_SPLIT = False\n",
        "if DATE_SPLIT:\n",
        "  id = 'split base on date'\n",
        "  mask = X.WeekNumber > 202108\n",
        "\n",
        "  df_train = df[~mask]\n",
        "  X_train = df_train.drop('CorrelateItemStatusCode', axis=1)\n",
        "  y_train = df_train.CorrelateItemStatusCode.astype(int)\n",
        "\n",
        "  df_test = df[mask]\n",
        "  X_test = df_test.drop('CorrelateItemStatusCode', axis=1)\n",
        "  y_test = df_test.CorrelateItemStatusCode.astype(int)\n",
        "\n",
        "  p(X_train.shape, X_test.shape, y_train.shape, y_test.shape)"
      ],
      "execution_count": 147,
      "outputs": []
    },
    {
      "cell_type": "markdown",
      "metadata": {
        "id": "Jeth1SM252Uk"
      },
      "source": [
        "(37417, 85) (17043, 85) (37417,) (17043,)"
      ]
    },
    {
      "cell_type": "markdown",
      "metadata": {
        "id": "skvOFJi89CGJ"
      },
      "source": [
        "## Models - Remove ingredients - precision is down from 84% to 83% on test data"
      ]
    },
    {
      "cell_type": "code",
      "metadata": {
        "id": "_2PYzS3y9CHk",
        "outputId": "57ac3644-7789-47c2-e79a-5a5558785968",
        "colab": {
          "base_uri": "https://localhost:8080/"
        }
      },
      "source": [
        "REMOVE_FEATURES = True\n",
        "if REMOVE_FEATURES:\n",
        "  id = 'remove ingredients'\n",
        "\n",
        "  cols = []\n",
        "  for col in ['Energy', 'Pachmema', 'Natran', 'Helbon', 'Shuman', 'ShumanRavuy', 'ShumanTrans', 'Colastrol',\n",
        "       'SivimTzunatim', 'CafiotSucar']:\n",
        "    cols.append(col)\n",
        "    cols.append(col + 'Subs')\n",
        "    cols.append(col + 'Diff')\n",
        "\n",
        "  df.drop(cols, axis=1, inplace=True)\n",
        "\n",
        "  df_train = df[~mask]\n",
        "  X_train = df_train.drop('CorrelateItemStatusCode', axis=1)\n",
        "  y_train = df_train.CorrelateItemStatusCode.astype(int)\n",
        "\n",
        "  df_test = df[mask]\n",
        "  X_test = df_test.drop('CorrelateItemStatusCode', axis=1)\n",
        "  y_test = df_test.CorrelateItemStatusCode.astype(int)\n",
        "\n",
        "  p(X_train.shape, X_test.shape, y_train.shape, y_test.shape)"
      ],
      "execution_count": 173,
      "outputs": [
        {
          "output_type": "stream",
          "text": [
            "(37417, 55) (17043, 55) (37417,) (17043,)\n"
          ],
          "name": "stdout"
        }
      ]
    },
    {
      "cell_type": "markdown",
      "metadata": {
        "id": "F39GpfKf9CHo"
      },
      "source": [
        "(37417, 55) (17043, 55) (37417,) (17043,)"
      ]
    },
    {
      "cell_type": "markdown",
      "metadata": {
        "id": "Dd5v8BtPA9qy"
      },
      "source": [
        "## Models - Code"
      ]
    },
    {
      "cell_type": "code",
      "metadata": {
        "id": "pMu7UaSHZ2BX"
      },
      "source": [
        "from sklearn.metrics import confusion_matrix, classification_report, accuracy_score\n",
        "import math\n",
        "\n",
        "pd.set_option(\"precision\", 2)\n",
        "df_result = pd.DataFrame()"
      ],
      "execution_count": 148,
      "outputs": []
    },
    {
      "cell_type": "code",
      "metadata": {
        "id": "SD0WOCyeZqSg"
      },
      "source": [
        "def report(clf, X, y, note, data_type='Test'):\n",
        "  global df_result\n",
        "  name = type(clf).__name__ + ': ' + data_type\n",
        "  acc = accuracy_score(y_true=y, y_pred=clf.predict(X))\n",
        "  index = [(name, clf.classes_[0]), (name, clf.classes_[1])]\n",
        "  cm = pd.DataFrame(confusion_matrix(y_true=y, y_pred=clf.predict(X)),\n",
        "                    index=clf.classes_,\n",
        "                    columns=clf.classes_)\n",
        "  cm.reset_index(drop=True, inplace=True)\n",
        "  rep = classification_report(y_true=y, y_pred=clf.predict(X), zero_division=1, output_dict=True)\n",
        "  rep =  pd.DataFrame(rep)\n",
        "  rep = rep.T\n",
        "  rep['accuracy'] = acc\n",
        "  rep.support = rep.support.astype(int)\n",
        "  cols = list(rep.columns[:3]) + ['accuracy', 'support']\n",
        "  rep = rep[cols]\n",
        "  rep['precision_avg'] = rep.precision['macro avg']\n",
        "  rep['recall_avg'] = rep.recall['macro avg']\n",
        "  rep['f1-score_avg'] = rep['f1-score']['macro avg']\n",
        "  rep.drop(['accuracy', 'macro avg', 'weighted avg'], axis=0, inplace=True)\n",
        "  rep.reset_index(drop=True, inplace=True)\n",
        "  df = cm.join(rep)\n",
        "  df['name'] = name\n",
        "  df['note'] = note\n",
        "  df.loc[1, 'note'] = ''\n",
        "  df.reset_index(inplace=True)\n",
        "  df_result.reset_index(inplace=True)\n",
        "  df_result = df_result.append(df, ignore_index=True)\n",
        "  df_result.set_index(['name', 'index'], inplace=True)\n",
        "  return df_result"
      ],
      "execution_count": 149,
      "outputs": []
    },
    {
      "cell_type": "code",
      "metadata": {
        "id": "Ci9f_i4dMAXy"
      },
      "source": [
        "def showFeatureImportance(model, X_train=X_train, threshold=0):\n",
        "  if type(model).__name__ == 'LogisticRegression':  # no features importance data\n",
        "    w0 = model.intercept_[0]\n",
        "    w = model.coef_[0]\n",
        "    fx_imp = pd.Series(w, index=X_train.columns)\n",
        "  else:\n",
        "    fx_imp = pd.Series(model.feature_importances_, index=X_train.columns)\n",
        "  fx_imp /= fx_imp.sum()\n",
        "  fx_imp = fx_imp.sort_values()\n",
        "  fx_imp = fx_imp[fx_imp > threshold]\n",
        "  fig = plt.figure(figsize=(5,5))\n",
        "  plt.xlim(0, 1)\n",
        "  fx_imp.plot(kind='barh', title=type(model).__name__ )"
      ],
      "execution_count": 150,
      "outputs": []
    },
    {
      "cell_type": "code",
      "metadata": {
        "id": "mjA3XyhXOKcF"
      },
      "source": [
        "def process_model(model, X_train=X_train, y_train=y_train, X_test=X_test, y_test=y_test, plot=False, threshold=0, note=''):\n",
        "  p('running: ', type(model).__name__)\n",
        "  model.fit(X_train, y_train)\n",
        "  report(model, X_train, y_train, note, 'Train')\n",
        "  report(model, X_test, y_test, note)\n",
        "  if plot:\n",
        "    showFeatureImportance(model, X_train, threshold)\n",
        "  return df_result "
      ],
      "execution_count": 151,
      "outputs": []
    },
    {
      "cell_type": "code",
      "metadata": {
        "id": "ijx9CUGjIGCo"
      },
      "source": [
        "from sklearn.linear_model import LogisticRegression, BayesianRidge, Lasso, Ridge\n",
        "from sklearn.ensemble import GradientBoostingClassifier, RandomForestClassifier, AdaBoostClassifier, GradientBoostingRegressor, BaggingClassifier, VotingClassifier\n",
        "from sklearn.tree import DecisionTreeClassifier\n",
        "from sklearn.neighbors import KNeighborsClassifier\n",
        "from sklearn.svm import LinearSVC"
      ],
      "execution_count": 152,
      "outputs": []
    },
    {
      "cell_type": "markdown",
      "metadata": {
        "id": "bmajzQZnBLLH"
      },
      "source": [
        "## Models - run process_model"
      ]
    },
    {
      "cell_type": "code",
      "metadata": {
        "id": "7n6vHsoaau-z",
        "colab": {
          "base_uri": "https://localhost:8080/",
          "height": 1000
        },
        "outputId": "71ef0833-0df3-434d-a0da-51d1cfe029e1"
      },
      "source": [
        "df_result = pd.DataFrame()\n",
        "\n",
        "process_model(LogisticRegression(max_iter=1000), note='max_iter=1000', threshold=0.0000005)  # did not fit, return accuracy=0, so we increased max_iter from default 100\n",
        "process_model(LogisticRegression(C=100, max_iter=1000, fit_intercept=False, warm_start=True), note='max_iter=1000, C=100, fit_intercept=False, warm_start=True', threshold=0.0000005, plot=True)\n",
        "\n",
        "clf_GB = GradientBoostingClassifier(n_estimators=100)\n",
        "process_model(clf_GB, plot=False, threshold=0.015, note='n_estimators=100')\n",
        "clf_GB = GradientBoostingClassifier(ccp_alpha=0.0001, n_estimators=100, random_state=1234)\n",
        "process_model(clf_GB, plot=False, threshold=0.015, note='ccp_alpha=0.0001, n_estimators=200, random_state=1234')\n",
        "#process_model(clf_GB, plot=True, threshold=0.015, note='max_depth=None, max_leaf_nodes=None, min_samples_split=100, n_estimators=200, random_state=1234')\n",
        "\n",
        "#process_model(AdaBoostClassifier(n_estimators=100))  # base estimator is DecisionTreeClassifier initialized with max_depth=1\n",
        "clf_AB = AdaBoostClassifier(base_estimator=DecisionTreeClassifier(max_depth=5), n_estimators=100, learning_rate=0.01)\n",
        "process_model(clf_AB)\n",
        "\n",
        "#process_model(RandomForestClassifier(n_estimators=64), plot=True, threshold=0.015)\n",
        "#clf_RF = RandomForestClassifier(n_estimators=500, min_samples_split=6, criterion='entropy')\n",
        "clf_RF = RandomForestClassifier(n_estimators=200, criterion='entropy', max_depth=None, min_samples_split=20, ccp_alpha=0.0003)\n",
        "process_model(clf_RF, plot=True, threshold=0.015, note=\"n_estimators=200, criterion='entropy', max_depth=None, min_samples_split=20, ccp_alpha=0.0003\")\n",
        "\n",
        "process_model(KNeighborsClassifier(n_neighbors=39))\n",
        "\n",
        "process_model(VotingClassifier(estimators=[('RF', clf_RF), ('GB', clf_GB), ('AB', clf_AB)], voting='soft'), note=\"('RF', clf_RF), ('GB', clf_GB), ('AB', clf_AB')\")\n",
        "\n",
        "if False: # ERROR: Classification metrics can't handle a mix of binary and continuous targets\n",
        "  process_model(GradientBoostingRegressor(n_estimators=100, max_depth=5))\n",
        "  process_model(BayesianRidge())\n",
        "  process_model(Lasso())\n",
        "  process_model(Ridge(alpha = 0.5))\n",
        "if False: ## too long > 4 minutes\n",
        "  process_model(LinearSVC(penalty='l2', loss='squared_hinge', dual=True, tol=0.0001, C=0.1, max_iter=20000)) # max_iter increaed from default 1000 to 3000, 6000, 20000 because did not coverged warning\n",
        "  from sklearn import svm\n",
        "  process_model(svm.SVC())\n",
        "  process_model(svm.SVR())\n",
        "\n",
        "d(df_result)\n",
        "\n",
        "fname = f'Shufersal_result_{id}.csv'\n",
        "df_result.to_csv(fname)"
      ],
      "execution_count": 174,
      "outputs": [
        {
          "output_type": "stream",
          "text": [
            "running:  LogisticRegression\n",
            "running:  LogisticRegression\n",
            "running:  GradientBoostingClassifier\n",
            "running:  GradientBoostingClassifier\n",
            "running:  AdaBoostClassifier\n",
            "running:  RandomForestClassifier\n",
            "running:  KNeighborsClassifier\n",
            "running:  VotingClassifier\n"
          ],
          "name": "stdout"
        },
        {
          "output_type": "display_data",
          "data": {
            "text/html": [
              "<div>\n",
              "<style scoped>\n",
              "    .dataframe tbody tr th:only-of-type {\n",
              "        vertical-align: middle;\n",
              "    }\n",
              "\n",
              "    .dataframe tbody tr th {\n",
              "        vertical-align: top;\n",
              "    }\n",
              "\n",
              "    .dataframe thead th {\n",
              "        text-align: right;\n",
              "    }\n",
              "</style>\n",
              "<table border=\"1\" class=\"dataframe\">\n",
              "  <thead>\n",
              "    <tr style=\"text-align: right;\">\n",
              "      <th></th>\n",
              "      <th></th>\n",
              "      <th>0</th>\n",
              "      <th>1</th>\n",
              "      <th>precision</th>\n",
              "      <th>recall</th>\n",
              "      <th>f1-score</th>\n",
              "      <th>accuracy</th>\n",
              "      <th>support</th>\n",
              "      <th>precision_avg</th>\n",
              "      <th>recall_avg</th>\n",
              "      <th>f1-score_avg</th>\n",
              "      <th>note</th>\n",
              "    </tr>\n",
              "    <tr>\n",
              "      <th>name</th>\n",
              "      <th>index</th>\n",
              "      <th></th>\n",
              "      <th></th>\n",
              "      <th></th>\n",
              "      <th></th>\n",
              "      <th></th>\n",
              "      <th></th>\n",
              "      <th></th>\n",
              "      <th></th>\n",
              "      <th></th>\n",
              "      <th></th>\n",
              "      <th></th>\n",
              "    </tr>\n",
              "  </thead>\n",
              "  <tbody>\n",
              "    <tr>\n",
              "      <th rowspan=\"2\" valign=\"top\">LogisticRegression: Train</th>\n",
              "      <th>0</th>\n",
              "      <td>0.0</td>\n",
              "      <td>12649.0</td>\n",
              "      <td>1.00</td>\n",
              "      <td>0.00</td>\n",
              "      <td>0.00</td>\n",
              "      <td>0.67</td>\n",
              "      <td>12649.0</td>\n",
              "      <td>0.83</td>\n",
              "      <td>0.50</td>\n",
              "      <td>0.40</td>\n",
              "      <td>max_iter=1000</td>\n",
              "    </tr>\n",
              "    <tr>\n",
              "      <th>1</th>\n",
              "      <td>0.0</td>\n",
              "      <td>25473.0</td>\n",
              "      <td>0.67</td>\n",
              "      <td>1.00</td>\n",
              "      <td>0.80</td>\n",
              "      <td>0.67</td>\n",
              "      <td>25473.0</td>\n",
              "      <td>0.83</td>\n",
              "      <td>0.50</td>\n",
              "      <td>0.40</td>\n",
              "      <td></td>\n",
              "    </tr>\n",
              "    <tr>\n",
              "      <th rowspan=\"2\" valign=\"top\">LogisticRegression: Test</th>\n",
              "      <th>0</th>\n",
              "      <td>0.0</td>\n",
              "      <td>5419.0</td>\n",
              "      <td>1.00</td>\n",
              "      <td>0.00</td>\n",
              "      <td>0.00</td>\n",
              "      <td>0.67</td>\n",
              "      <td>5419.0</td>\n",
              "      <td>0.83</td>\n",
              "      <td>0.50</td>\n",
              "      <td>0.40</td>\n",
              "      <td>max_iter=1000</td>\n",
              "    </tr>\n",
              "    <tr>\n",
              "      <th>1</th>\n",
              "      <td>0.0</td>\n",
              "      <td>10919.0</td>\n",
              "      <td>0.67</td>\n",
              "      <td>1.00</td>\n",
              "      <td>0.80</td>\n",
              "      <td>0.67</td>\n",
              "      <td>10919.0</td>\n",
              "      <td>0.83</td>\n",
              "      <td>0.50</td>\n",
              "      <td>0.40</td>\n",
              "      <td></td>\n",
              "    </tr>\n",
              "    <tr>\n",
              "      <th rowspan=\"2\" valign=\"top\">LogisticRegression: Train</th>\n",
              "      <th>0</th>\n",
              "      <td>0.0</td>\n",
              "      <td>12649.0</td>\n",
              "      <td>1.00</td>\n",
              "      <td>0.00</td>\n",
              "      <td>0.00</td>\n",
              "      <td>0.67</td>\n",
              "      <td>12649.0</td>\n",
              "      <td>0.83</td>\n",
              "      <td>0.50</td>\n",
              "      <td>0.40</td>\n",
              "      <td>max_iter=1000, C=100, fit_intercept=False, warm_start=True</td>\n",
              "    </tr>\n",
              "    <tr>\n",
              "      <th>1</th>\n",
              "      <td>0.0</td>\n",
              "      <td>25473.0</td>\n",
              "      <td>0.67</td>\n",
              "      <td>1.00</td>\n",
              "      <td>0.80</td>\n",
              "      <td>0.67</td>\n",
              "      <td>25473.0</td>\n",
              "      <td>0.83</td>\n",
              "      <td>0.50</td>\n",
              "      <td>0.40</td>\n",
              "      <td></td>\n",
              "    </tr>\n",
              "    <tr>\n",
              "      <th rowspan=\"2\" valign=\"top\">LogisticRegression: Test</th>\n",
              "      <th>0</th>\n",
              "      <td>0.0</td>\n",
              "      <td>5419.0</td>\n",
              "      <td>1.00</td>\n",
              "      <td>0.00</td>\n",
              "      <td>0.00</td>\n",
              "      <td>0.67</td>\n",
              "      <td>5419.0</td>\n",
              "      <td>0.83</td>\n",
              "      <td>0.50</td>\n",
              "      <td>0.40</td>\n",
              "      <td>max_iter=1000, C=100, fit_intercept=False, warm_start=True</td>\n",
              "    </tr>\n",
              "    <tr>\n",
              "      <th>1</th>\n",
              "      <td>0.0</td>\n",
              "      <td>10919.0</td>\n",
              "      <td>0.67</td>\n",
              "      <td>1.00</td>\n",
              "      <td>0.80</td>\n",
              "      <td>0.67</td>\n",
              "      <td>10919.0</td>\n",
              "      <td>0.83</td>\n",
              "      <td>0.50</td>\n",
              "      <td>0.40</td>\n",
              "      <td></td>\n",
              "    </tr>\n",
              "    <tr>\n",
              "      <th rowspan=\"2\" valign=\"top\">GradientBoostingClassifier: Train</th>\n",
              "      <th>0</th>\n",
              "      <td>7924.0</td>\n",
              "      <td>4725.0</td>\n",
              "      <td>0.79</td>\n",
              "      <td>0.63</td>\n",
              "      <td>0.70</td>\n",
              "      <td>0.82</td>\n",
              "      <td>12649.0</td>\n",
              "      <td>0.81</td>\n",
              "      <td>0.77</td>\n",
              "      <td>0.79</td>\n",
              "      <td>n_estimators=100</td>\n",
              "    </tr>\n",
              "    <tr>\n",
              "      <th>1</th>\n",
              "      <td>2054.0</td>\n",
              "      <td>23419.0</td>\n",
              "      <td>0.83</td>\n",
              "      <td>0.92</td>\n",
              "      <td>0.87</td>\n",
              "      <td>0.82</td>\n",
              "      <td>25473.0</td>\n",
              "      <td>0.81</td>\n",
              "      <td>0.77</td>\n",
              "      <td>0.79</td>\n",
              "      <td></td>\n",
              "    </tr>\n",
              "    <tr>\n",
              "      <th rowspan=\"2\" valign=\"top\">GradientBoostingClassifier: Test</th>\n",
              "      <th>0</th>\n",
              "      <td>3411.0</td>\n",
              "      <td>2008.0</td>\n",
              "      <td>0.79</td>\n",
              "      <td>0.63</td>\n",
              "      <td>0.70</td>\n",
              "      <td>0.82</td>\n",
              "      <td>5419.0</td>\n",
              "      <td>0.81</td>\n",
              "      <td>0.77</td>\n",
              "      <td>0.79</td>\n",
              "      <td>n_estimators=100</td>\n",
              "    </tr>\n",
              "    <tr>\n",
              "      <th>1</th>\n",
              "      <td>926.0</td>\n",
              "      <td>9993.0</td>\n",
              "      <td>0.83</td>\n",
              "      <td>0.92</td>\n",
              "      <td>0.87</td>\n",
              "      <td>0.82</td>\n",
              "      <td>10919.0</td>\n",
              "      <td>0.81</td>\n",
              "      <td>0.77</td>\n",
              "      <td>0.79</td>\n",
              "      <td></td>\n",
              "    </tr>\n",
              "    <tr>\n",
              "      <th rowspan=\"2\" valign=\"top\">GradientBoostingClassifier: Train</th>\n",
              "      <th>0</th>\n",
              "      <td>7825.0</td>\n",
              "      <td>4824.0</td>\n",
              "      <td>0.79</td>\n",
              "      <td>0.62</td>\n",
              "      <td>0.70</td>\n",
              "      <td>0.82</td>\n",
              "      <td>12649.0</td>\n",
              "      <td>0.81</td>\n",
              "      <td>0.77</td>\n",
              "      <td>0.78</td>\n",
              "      <td>ccp_alpha=0.0001, n_estimators=200, random_state=1234</td>\n",
              "    </tr>\n",
              "    <tr>\n",
              "      <th>1</th>\n",
              "      <td>2041.0</td>\n",
              "      <td>23432.0</td>\n",
              "      <td>0.83</td>\n",
              "      <td>0.92</td>\n",
              "      <td>0.87</td>\n",
              "      <td>0.82</td>\n",
              "      <td>25473.0</td>\n",
              "      <td>0.81</td>\n",
              "      <td>0.77</td>\n",
              "      <td>0.78</td>\n",
              "      <td></td>\n",
              "    </tr>\n",
              "    <tr>\n",
              "      <th rowspan=\"2\" valign=\"top\">GradientBoostingClassifier: Test</th>\n",
              "      <th>0</th>\n",
              "      <td>3365.0</td>\n",
              "      <td>2054.0</td>\n",
              "      <td>0.79</td>\n",
              "      <td>0.62</td>\n",
              "      <td>0.69</td>\n",
              "      <td>0.82</td>\n",
              "      <td>5419.0</td>\n",
              "      <td>0.81</td>\n",
              "      <td>0.77</td>\n",
              "      <td>0.78</td>\n",
              "      <td>ccp_alpha=0.0001, n_estimators=200, random_state=1234</td>\n",
              "    </tr>\n",
              "    <tr>\n",
              "      <th>1</th>\n",
              "      <td>919.0</td>\n",
              "      <td>10000.0</td>\n",
              "      <td>0.83</td>\n",
              "      <td>0.92</td>\n",
              "      <td>0.87</td>\n",
              "      <td>0.82</td>\n",
              "      <td>10919.0</td>\n",
              "      <td>0.81</td>\n",
              "      <td>0.77</td>\n",
              "      <td>0.78</td>\n",
              "      <td></td>\n",
              "    </tr>\n",
              "    <tr>\n",
              "      <th rowspan=\"2\" valign=\"top\">AdaBoostClassifier: Train</th>\n",
              "      <th>0</th>\n",
              "      <td>7398.0</td>\n",
              "      <td>5251.0</td>\n",
              "      <td>0.78</td>\n",
              "      <td>0.58</td>\n",
              "      <td>0.67</td>\n",
              "      <td>0.81</td>\n",
              "      <td>12649.0</td>\n",
              "      <td>0.80</td>\n",
              "      <td>0.75</td>\n",
              "      <td>0.77</td>\n",
              "      <td></td>\n",
              "    </tr>\n",
              "    <tr>\n",
              "      <th>1</th>\n",
              "      <td>2086.0</td>\n",
              "      <td>23387.0</td>\n",
              "      <td>0.82</td>\n",
              "      <td>0.92</td>\n",
              "      <td>0.86</td>\n",
              "      <td>0.81</td>\n",
              "      <td>25473.0</td>\n",
              "      <td>0.80</td>\n",
              "      <td>0.75</td>\n",
              "      <td>0.77</td>\n",
              "      <td></td>\n",
              "    </tr>\n",
              "    <tr>\n",
              "      <th rowspan=\"2\" valign=\"top\">AdaBoostClassifier: Test</th>\n",
              "      <th>0</th>\n",
              "      <td>3157.0</td>\n",
              "      <td>2262.0</td>\n",
              "      <td>0.77</td>\n",
              "      <td>0.58</td>\n",
              "      <td>0.66</td>\n",
              "      <td>0.80</td>\n",
              "      <td>5419.0</td>\n",
              "      <td>0.79</td>\n",
              "      <td>0.75</td>\n",
              "      <td>0.76</td>\n",
              "      <td></td>\n",
              "    </tr>\n",
              "    <tr>\n",
              "      <th>1</th>\n",
              "      <td>941.0</td>\n",
              "      <td>9978.0</td>\n",
              "      <td>0.82</td>\n",
              "      <td>0.91</td>\n",
              "      <td>0.86</td>\n",
              "      <td>0.80</td>\n",
              "      <td>10919.0</td>\n",
              "      <td>0.79</td>\n",
              "      <td>0.75</td>\n",
              "      <td>0.76</td>\n",
              "      <td></td>\n",
              "    </tr>\n",
              "    <tr>\n",
              "      <th rowspan=\"2\" valign=\"top\">RandomForestClassifier: Train</th>\n",
              "      <th>0</th>\n",
              "      <td>9246.0</td>\n",
              "      <td>3403.0</td>\n",
              "      <td>0.85</td>\n",
              "      <td>0.73</td>\n",
              "      <td>0.79</td>\n",
              "      <td>0.87</td>\n",
              "      <td>12649.0</td>\n",
              "      <td>0.86</td>\n",
              "      <td>0.83</td>\n",
              "      <td>0.85</td>\n",
              "      <td>n_estimators=200, criterion='entropy', max_depth=None, min_samples_split=20, ccp_alpha=0.0003</td>\n",
              "    </tr>\n",
              "    <tr>\n",
              "      <th>1</th>\n",
              "      <td>1584.0</td>\n",
              "      <td>23889.0</td>\n",
              "      <td>0.88</td>\n",
              "      <td>0.94</td>\n",
              "      <td>0.91</td>\n",
              "      <td>0.87</td>\n",
              "      <td>25473.0</td>\n",
              "      <td>0.86</td>\n",
              "      <td>0.83</td>\n",
              "      <td>0.85</td>\n",
              "      <td></td>\n",
              "    </tr>\n",
              "    <tr>\n",
              "      <th rowspan=\"2\" valign=\"top\">RandomForestClassifier: Test</th>\n",
              "      <th>0</th>\n",
              "      <td>3787.0</td>\n",
              "      <td>1632.0</td>\n",
              "      <td>0.81</td>\n",
              "      <td>0.70</td>\n",
              "      <td>0.75</td>\n",
              "      <td>0.85</td>\n",
              "      <td>5419.0</td>\n",
              "      <td>0.83</td>\n",
              "      <td>0.81</td>\n",
              "      <td>0.82</td>\n",
              "      <td>n_estimators=200, criterion='entropy', max_depth=None, min_samples_split=20, ccp_alpha=0.0003</td>\n",
              "    </tr>\n",
              "    <tr>\n",
              "      <th>1</th>\n",
              "      <td>894.0</td>\n",
              "      <td>10025.0</td>\n",
              "      <td>0.86</td>\n",
              "      <td>0.92</td>\n",
              "      <td>0.89</td>\n",
              "      <td>0.85</td>\n",
              "      <td>10919.0</td>\n",
              "      <td>0.83</td>\n",
              "      <td>0.81</td>\n",
              "      <td>0.82</td>\n",
              "      <td></td>\n",
              "    </tr>\n",
              "    <tr>\n",
              "      <th rowspan=\"2\" valign=\"top\">KNeighborsClassifier: Train</th>\n",
              "      <th>0</th>\n",
              "      <td>3754.0</td>\n",
              "      <td>8895.0</td>\n",
              "      <td>0.60</td>\n",
              "      <td>0.30</td>\n",
              "      <td>0.40</td>\n",
              "      <td>0.70</td>\n",
              "      <td>12649.0</td>\n",
              "      <td>0.66</td>\n",
              "      <td>0.60</td>\n",
              "      <td>0.60</td>\n",
              "      <td></td>\n",
              "    </tr>\n",
              "    <tr>\n",
              "      <th>1</th>\n",
              "      <td>2490.0</td>\n",
              "      <td>22983.0</td>\n",
              "      <td>0.72</td>\n",
              "      <td>0.90</td>\n",
              "      <td>0.80</td>\n",
              "      <td>0.70</td>\n",
              "      <td>25473.0</td>\n",
              "      <td>0.66</td>\n",
              "      <td>0.60</td>\n",
              "      <td>0.60</td>\n",
              "      <td></td>\n",
              "    </tr>\n",
              "    <tr>\n",
              "      <th rowspan=\"2\" valign=\"top\">KNeighborsClassifier: Test</th>\n",
              "      <th>0</th>\n",
              "      <td>1519.0</td>\n",
              "      <td>3900.0</td>\n",
              "      <td>0.56</td>\n",
              "      <td>0.28</td>\n",
              "      <td>0.37</td>\n",
              "      <td>0.69</td>\n",
              "      <td>5419.0</td>\n",
              "      <td>0.64</td>\n",
              "      <td>0.59</td>\n",
              "      <td>0.58</td>\n",
              "      <td></td>\n",
              "    </tr>\n",
              "    <tr>\n",
              "      <th>1</th>\n",
              "      <td>1197.0</td>\n",
              "      <td>9722.0</td>\n",
              "      <td>0.71</td>\n",
              "      <td>0.89</td>\n",
              "      <td>0.79</td>\n",
              "      <td>0.69</td>\n",
              "      <td>10919.0</td>\n",
              "      <td>0.64</td>\n",
              "      <td>0.59</td>\n",
              "      <td>0.58</td>\n",
              "      <td></td>\n",
              "    </tr>\n",
              "    <tr>\n",
              "      <th rowspan=\"2\" valign=\"top\">VotingClassifier: Train</th>\n",
              "      <th>0</th>\n",
              "      <td>8233.0</td>\n",
              "      <td>4416.0</td>\n",
              "      <td>0.82</td>\n",
              "      <td>0.65</td>\n",
              "      <td>0.73</td>\n",
              "      <td>0.84</td>\n",
              "      <td>12649.0</td>\n",
              "      <td>0.83</td>\n",
              "      <td>0.79</td>\n",
              "      <td>0.81</td>\n",
              "      <td>('RF', clf_RF), ('GB', clf_GB), ('AB', clf_AB')</td>\n",
              "    </tr>\n",
              "    <tr>\n",
              "      <th>1</th>\n",
              "      <td>1754.0</td>\n",
              "      <td>23719.0</td>\n",
              "      <td>0.84</td>\n",
              "      <td>0.93</td>\n",
              "      <td>0.88</td>\n",
              "      <td>0.84</td>\n",
              "      <td>25473.0</td>\n",
              "      <td>0.83</td>\n",
              "      <td>0.79</td>\n",
              "      <td>0.81</td>\n",
              "      <td></td>\n",
              "    </tr>\n",
              "    <tr>\n",
              "      <th rowspan=\"2\" valign=\"top\">VotingClassifier: Test</th>\n",
              "      <th>0</th>\n",
              "      <td>3499.0</td>\n",
              "      <td>1920.0</td>\n",
              "      <td>0.81</td>\n",
              "      <td>0.65</td>\n",
              "      <td>0.72</td>\n",
              "      <td>0.83</td>\n",
              "      <td>5419.0</td>\n",
              "      <td>0.83</td>\n",
              "      <td>0.79</td>\n",
              "      <td>0.80</td>\n",
              "      <td>('RF', clf_RF), ('GB', clf_GB), ('AB', clf_AB')</td>\n",
              "    </tr>\n",
              "    <tr>\n",
              "      <th>1</th>\n",
              "      <td>813.0</td>\n",
              "      <td>10106.0</td>\n",
              "      <td>0.84</td>\n",
              "      <td>0.93</td>\n",
              "      <td>0.88</td>\n",
              "      <td>0.83</td>\n",
              "      <td>10919.0</td>\n",
              "      <td>0.83</td>\n",
              "      <td>0.79</td>\n",
              "      <td>0.80</td>\n",
              "      <td></td>\n",
              "    </tr>\n",
              "  </tbody>\n",
              "</table>\n",
              "</div>"
            ],
            "text/plain": [
              "                                              0  ...                                                                                           note\n",
              "name                              index          ...                                                                                               \n",
              "LogisticRegression: Train         0         0.0  ...                                                                                  max_iter=1000\n",
              "                                  1         0.0  ...                                                                                               \n",
              "LogisticRegression: Test          0         0.0  ...                                                                                  max_iter=1000\n",
              "                                  1         0.0  ...                                                                                               \n",
              "LogisticRegression: Train         0         0.0  ...                                     max_iter=1000, C=100, fit_intercept=False, warm_start=True\n",
              "                                  1         0.0  ...                                                                                               \n",
              "LogisticRegression: Test          0         0.0  ...                                     max_iter=1000, C=100, fit_intercept=False, warm_start=True\n",
              "                                  1         0.0  ...                                                                                               \n",
              "GradientBoostingClassifier: Train 0      7924.0  ...                                                                               n_estimators=100\n",
              "                                  1      2054.0  ...                                                                                               \n",
              "GradientBoostingClassifier: Test  0      3411.0  ...                                                                               n_estimators=100\n",
              "                                  1       926.0  ...                                                                                               \n",
              "GradientBoostingClassifier: Train 0      7825.0  ...                                          ccp_alpha=0.0001, n_estimators=200, random_state=1234\n",
              "                                  1      2041.0  ...                                                                                               \n",
              "GradientBoostingClassifier: Test  0      3365.0  ...                                          ccp_alpha=0.0001, n_estimators=200, random_state=1234\n",
              "                                  1       919.0  ...                                                                                               \n",
              "AdaBoostClassifier: Train         0      7398.0  ...                                                                                               \n",
              "                                  1      2086.0  ...                                                                                               \n",
              "AdaBoostClassifier: Test          0      3157.0  ...                                                                                               \n",
              "                                  1       941.0  ...                                                                                               \n",
              "RandomForestClassifier: Train     0      9246.0  ...  n_estimators=200, criterion='entropy', max_depth=None, min_samples_split=20, ccp_alpha=0.0003\n",
              "                                  1      1584.0  ...                                                                                               \n",
              "RandomForestClassifier: Test      0      3787.0  ...  n_estimators=200, criterion='entropy', max_depth=None, min_samples_split=20, ccp_alpha=0.0003\n",
              "                                  1       894.0  ...                                                                                               \n",
              "KNeighborsClassifier: Train       0      3754.0  ...                                                                                               \n",
              "                                  1      2490.0  ...                                                                                               \n",
              "KNeighborsClassifier: Test        0      1519.0  ...                                                                                               \n",
              "                                  1      1197.0  ...                                                                                               \n",
              "VotingClassifier: Train           0      8233.0  ...                                                ('RF', clf_RF), ('GB', clf_GB), ('AB', clf_AB')\n",
              "                                  1      1754.0  ...                                                                                               \n",
              "VotingClassifier: Test            0      3499.0  ...                                                ('RF', clf_RF), ('GB', clf_GB), ('AB', clf_AB')\n",
              "                                  1       813.0  ...                                                                                               \n",
              "\n",
              "[32 rows x 11 columns]"
            ]
          },
          "metadata": {
            "tags": []
          }
        },
        {
          "output_type": "display_data",
          "data": {
            "image/png": "[encoded data removed]",
            "text/plain": [
              "<Figure size 360x360 with 1 Axes>"
            ]
          },
          "metadata": {
            "tags": [],
            "needs_background": "light"
          }
        },
        {
          "output_type": "display_data",
          "data": {
            "image/png": "[encoded data removed]",
            "text/plain": [
              "<Figure size 360x360 with 1 Axes>"
            ]
          },
          "metadata": {
            "tags": [],
            "needs_background": "light"
          }
        },
        {
          "output_type": "display_data",
          "data": {
            "image/png": "[encoded data removed]",
            "text/plain": [
              "<Figure size 360x360 with 1 Axes>"
            ]
          },
          "metadata": {
            "tags": [],
            "needs_background": "light"
          }
        },
        {
          "output_type": "display_data",
          "data": {
            "image/png": "[encoded data removed]",
            "text/plain": [
              "<Figure size 360x360 with 1 Axes>"
            ]
          },
          "metadata": {
            "tags": [],
            "needs_background": "light"
          }
        }
      ]
    },
    {
      "cell_type": "markdown",
      "metadata": {
        "id": "1822YhnQDxGa"
      },
      "source": [
        "## Models - Using all categories as dummies - No change in the result\n"
      ]
    },
    {
      "cell_type": "markdown",
      "metadata": {
        "id": "YRR0nm9OD9na"
      },
      "source": [
        ""
      ]
    },
    {
      "cell_type": "markdown",
      "metadata": {
        "id": "2vJMpWtbwk6C"
      },
      "source": [
        "Result of running the models - no improvemnet using the dummies: shape = (54460, 2238)\n",
        "\n",
        "running:  LogisticRegression\n",
        "running:  LogisticRegression\n",
        "running:  GradientBoostingClassifier\n",
        "running:  GradientBoostingClassifier\n",
        "running:  AdaBoostClassifier\n",
        "running:  RandomForestClassifier\n",
        "running:  KNeighborsClassifier\n",
        "running:  VotingClassifier\n",
        "0\t1\tprecision\trecall\tf1-score\taccuracy\tsupport\tprecision_avg\trecall_avg\tf1-score_avg\tnote\n",
        "name\tindex\t\t\t\t\t\t\t\t\t\t\t\n",
        "LogisticRegression: Train\t0\t0.0\t12649.0\t1.00\t0.00\t0.00\t0.67\t12649.0\t0.83\t0.50\t0.40\tmax_iter=1000\n",
        "1\t0.0\t25473.0\t0.67\t1.00\t0.80\t0.67\t25473.0\t0.83\t0.50\t0.40\t\n",
        "LogisticRegression: Test\t0\t0.0\t5419.0\t1.00\t0.00\t0.00\t0.67\t5419.0\t0.83\t0.50\t0.40\tmax_iter=1000\n",
        "1\t0.0\t10919.0\t0.67\t1.00\t0.80\t0.67\t10919.0\t0.83\t0.50\t0.40\t\n",
        "LogisticRegression: Train\t0\t0.0\t12649.0\t1.00\t0.00\t0.00\t0.67\t12649.0\t0.83\t0.50\t0.40\tmax_iter=1000, C=100, fit_intercept=False, war...\n",
        "1\t0.0\t25473.0\t0.67\t1.00\t0.80\t0.67\t25473.0\t0.83\t0.50\t0.40\t\n",
        "LogisticRegression: Test\t0\t0.0\t5419.0\t1.00\t0.00\t0.00\t0.67\t5419.0\t0.83\t0.50\t0.40\tmax_iter=1000, C=100, fit_intercept=False, war...\n",
        "1\t0.0\t10919.0\t0.67\t1.00\t0.80\t0.67\t10919.0\t0.83\t0.50\t0.40\t\n",
        "GradientBoostingClassifier: Train\t0\t7748.0\t4901.0\t0.79\t0.61\t0.69\t0.82\t12649.0\t0.81\t0.77\t0.78\tn_estimators=100\n",
        "1\t2006.0\t23467.0\t0.83\t0.92\t0.87\t0.82\t25473.0\t0.81\t0.77\t0.78\t\n",
        "GradientBoostingClassifier: Test\t0\t3326.0\t2093.0\t0.78\t0.61\t0.69\t0.82\t5419.0\t0.81\t0.76\t0.78\tn_estimators=100\n",
        "1\t917.0\t10002.0\t0.83\t0.92\t0.87\t0.82\t10919.0\t0.81\t0.76\t0.78\t\n",
        "GradientBoostingClassifier: Train\t0\t12649.0\t0.0\t1.00\t1.00\t1.00\t1.00\t12649.0\t1.00\t1.00\t1.00\tmax_depth=None, max_leaf_nodes=None, min_sampl...\n",
        "1\t0.0\t25473.0\t1.00\t1.00\t1.00\t1.00\t25473.0\t1.00\t1.00\t1.00\t\n",
        "GradientBoostingClassifier: Test\t0\t4128.0\t1291.0\t0.82\t0.76\t0.79\t0.86\t5419.0\t0.85\t0.84\t0.84\tmax_depth=None, max_leaf_nodes=None, min_sampl...\n",
        "1\t936.0\t9983.0\t0.89\t0.91\t0.90\t0.86\t10919.0\t0.85\t0.84\t0.84\t\n",
        "AdaBoostClassifier: Train\t0\t7352.0\t5297.0\t0.78\t0.58\t0.67\t0.81\t12649.0\t0.80\t0.75\t0.76\t\n",
        "1\t2095.0\t23378.0\t0.82\t0.92\t0.86\t0.81\t25473.0\t0.80\t0.75\t0.76\t\n",
        "AdaBoostClassifier: Test\t0\t3167.0\t2252.0\t0.77\t0.58\t0.66\t0.80\t5419.0\t0.79\t0.75\t0.76\t\n",
        "1\t955.0\t9964.0\t0.82\t0.91\t0.86\t0.80\t10919.0\t0.79\t0.75\t0.76\t\n",
        "RandomForestClassifier: Train\t0\t7366.0\t5283.0\t0.86\t0.58\t0.69\t0.83\t12649.0\t0.84\t0.77\t0.79\tn_estimators=200, criterion='entropy', max_dep...\n",
        "1\t1243.0\t24230.0\t0.82\t0.95\t0.88\t0.83\t25473.0\t0.84\t0.77\t0.79\t\n",
        "RandomForestClassifier: Test\t0\t2971.0\t2448.0\t0.82\t0.55\t0.66\t0.81\t5419.0\t0.81\t0.74\t0.76\tn_estimators=200, criterion='entropy', max_dep...\n",
        "1\t669.0\t10250.0\t0.81\t0.94\t0.87\t0.81\t10919.0\t0.81\t0.74\t0.76\t\n",
        "KNeighborsClassifier: Train\t0\t2262.0\t10387.0\t0.58\t0.18\t0.27\t0.68\t12649.0\t0.64\t0.56\t0.54\t\n",
        "1\t1652.0\t23821.0\t0.70\t0.94\t0.80\t0.68\t25473.0\t0.64\t0.56\t0.54\t\n",
        "KNeighborsClassifier: Test\t0\t858.0\t4561.0\t0.51\t0.16\t0.24\t0.67\t5419.0\t0.60\t0.54\t0.52\t\n",
        "1\t824.0\t10095.0\t0.69\t0.92\t0.79\t0.67\t10919.0\t0.60\t0.54\t0.52\t\n",
        "VotingClassifier: Train\t0\t12235.0\t414.0\t1.00\t0.97\t0.98\t0.99\t12649.0\t0.99\t0.98\t0.99\t('RF', clf_RF), ('GB', clf_GB), ('AB', clf_AB')\n",
        "1\t0.0\t25473.0\t0.98\t1.00\t0.99\t0.99\t25473.0\t0.99\t0.98\t0.99\t\n",
        "VotingClassifier: Test\t0\t4005.0\t1414.0\t0.83\t0.74\t0.78\t0.86\t5419.0\t0.86\t0.83\t0.84\t('RF', clf_RF), ('GB', clf_GB), ('AB', clf_AB')\n",
        "1\t799.0\t10120.0\t0.88\t0.93\t0.90\t0.86\t10919.0\t0.86\t0.83\t0.84\t"
      ]
    },
    {
      "cell_type": "markdown",
      "metadata": {
        "id": "HOB4NF9TkLVE"
      },
      "source": [
        "## Models - Using Ratio - No change in the result"
      ]
    },
    {
      "cell_type": "code",
      "metadata": {
        "id": "c0cMhjV0kLVS"
      },
      "source": [
        "if RATIO:\n",
        "  X = df_ratio.drop('CorrelateItemStatusCode', axis=1)\n",
        "  y = df_ratio.CorrelateItemStatusCode.astype(int)\n",
        "\n",
        "  X_train, X_test, y_train, y_test = train_test_split(X, y, train_size=0.7, random_state=0)\n",
        "\n",
        "  process_model(clf_RF, plot=True, threshold=0.015)\n",
        "  d(df_result)"
      ],
      "execution_count": 155,
      "outputs": []
    },
    {
      "cell_type": "markdown",
      "metadata": {
        "id": "GVZdgZaNGpY8"
      },
      "source": [
        "## Models - compare results of different datasets\n",
        "\n",
        "1. Diff - full\n",
        "2. Diff - remove ingredients\n",
        "3. Diff - split based on date"
      ]
    },
    {
      "cell_type": "code",
      "metadata": {
        "id": "I3uYw6pdGmt0"
      },
      "source": [
        "def read_df_result(id='', disp=True, full=False):\n",
        "  fname = f'Shufersal_result_{id}.csv'\n",
        "  p(fname)\n",
        "  df_result_t = pd.read_csv(fname, keep_default_na=False)\n",
        "  df_result_t.set_index(['name', 'index'], inplace=True)\n",
        "  pd.set_option(\"max_colwidth\", 100)\n",
        "  if not full:\n",
        "    df_result_t = df_result_t.loc[['RandomForestClassifier: Train', 'RandomForestClassifier: Test']].copy()\n",
        "  return df_result_t "
      ],
      "execution_count": 202,
      "outputs": []
    },
    {
      "cell_type": "code",
      "metadata": {
        "colab": {
          "base_uri": "https://localhost:8080/",
          "height": 782
        },
        "id": "Nafh17wfGmt5",
        "outputId": "2276c447-ddf6-4847-9943-8f5ebc9daafa"
      },
      "source": [
        "d(read_df_result())\n",
        "d(read_df_result('remove ingredients'))\n",
        "d(read_df_result('split based on date'))"
      ],
      "execution_count": 203,
      "outputs": [
        {
          "output_type": "stream",
          "text": [
            "Shufersal_result_.csv\n"
          ],
          "name": "stdout"
        },
        {
          "output_type": "display_data",
          "data": {
            "text/html": [
              "<div>\n",
              "<style scoped>\n",
              "    .dataframe tbody tr th:only-of-type {\n",
              "        vertical-align: middle;\n",
              "    }\n",
              "\n",
              "    .dataframe tbody tr th {\n",
              "        vertical-align: top;\n",
              "    }\n",
              "\n",
              "    .dataframe thead th {\n",
              "        text-align: right;\n",
              "    }\n",
              "</style>\n",
              "<table border=\"1\" class=\"dataframe\">\n",
              "  <thead>\n",
              "    <tr style=\"text-align: right;\">\n",
              "      <th></th>\n",
              "      <th></th>\n",
              "      <th>0</th>\n",
              "      <th>1</th>\n",
              "      <th>precision</th>\n",
              "      <th>recall</th>\n",
              "      <th>f1-score</th>\n",
              "      <th>accuracy</th>\n",
              "      <th>support</th>\n",
              "      <th>precision_avg</th>\n",
              "      <th>recall_avg</th>\n",
              "      <th>f1-score_avg</th>\n",
              "      <th>note</th>\n",
              "    </tr>\n",
              "    <tr>\n",
              "      <th>name</th>\n",
              "      <th>index</th>\n",
              "      <th></th>\n",
              "      <th></th>\n",
              "      <th></th>\n",
              "      <th></th>\n",
              "      <th></th>\n",
              "      <th></th>\n",
              "      <th></th>\n",
              "      <th></th>\n",
              "      <th></th>\n",
              "      <th></th>\n",
              "      <th></th>\n",
              "    </tr>\n",
              "  </thead>\n",
              "  <tbody>\n",
              "    <tr>\n",
              "      <th rowspan=\"2\" valign=\"top\">RandomForestClassifier: Train</th>\n",
              "      <th>0</th>\n",
              "      <td>9267.0</td>\n",
              "      <td>3382.0</td>\n",
              "      <td>0.86</td>\n",
              "      <td>0.73</td>\n",
              "      <td>0.79</td>\n",
              "      <td>0.87</td>\n",
              "      <td>12649.0</td>\n",
              "      <td>0.87</td>\n",
              "      <td>0.84</td>\n",
              "      <td>0.85</td>\n",
              "      <td>n_estimators=200, criterion='entropy', max_depth=None, min_samples_split=20, ccp_alpha=0.0003</td>\n",
              "    </tr>\n",
              "    <tr>\n",
              "      <th>1</th>\n",
              "      <td>1546.0</td>\n",
              "      <td>23927.0</td>\n",
              "      <td>0.88</td>\n",
              "      <td>0.94</td>\n",
              "      <td>0.91</td>\n",
              "      <td>0.87</td>\n",
              "      <td>25473.0</td>\n",
              "      <td>0.87</td>\n",
              "      <td>0.84</td>\n",
              "      <td>0.85</td>\n",
              "      <td></td>\n",
              "    </tr>\n",
              "    <tr>\n",
              "      <th rowspan=\"2\" valign=\"top\">RandomForestClassifier: Test</th>\n",
              "      <th>0</th>\n",
              "      <td>3804.0</td>\n",
              "      <td>1615.0</td>\n",
              "      <td>0.81</td>\n",
              "      <td>0.70</td>\n",
              "      <td>0.75</td>\n",
              "      <td>0.85</td>\n",
              "      <td>5419.0</td>\n",
              "      <td>0.84</td>\n",
              "      <td>0.81</td>\n",
              "      <td>0.82</td>\n",
              "      <td>n_estimators=200, criterion='entropy', max_depth=None, min_samples_split=20, ccp_alpha=0.0003</td>\n",
              "    </tr>\n",
              "    <tr>\n",
              "      <th>1</th>\n",
              "      <td>879.0</td>\n",
              "      <td>10040.0</td>\n",
              "      <td>0.86</td>\n",
              "      <td>0.92</td>\n",
              "      <td>0.89</td>\n",
              "      <td>0.85</td>\n",
              "      <td>10919.0</td>\n",
              "      <td>0.84</td>\n",
              "      <td>0.81</td>\n",
              "      <td>0.82</td>\n",
              "      <td></td>\n",
              "    </tr>\n",
              "  </tbody>\n",
              "</table>\n",
              "</div>"
            ],
            "text/plain": [
              "                                          0  ...                                                                                           note\n",
              "name                          index          ...                                                                                               \n",
              "RandomForestClassifier: Train 0      9267.0  ...  n_estimators=200, criterion='entropy', max_depth=None, min_samples_split=20, ccp_alpha=0.0003\n",
              "                              1      1546.0  ...                                                                                               \n",
              "RandomForestClassifier: Test  0      3804.0  ...  n_estimators=200, criterion='entropy', max_depth=None, min_samples_split=20, ccp_alpha=0.0003\n",
              "                              1       879.0  ...                                                                                               \n",
              "\n",
              "[4 rows x 11 columns]"
            ]
          },
          "metadata": {
            "tags": []
          }
        },
        {
          "output_type": "stream",
          "text": [
            "Shufersal_result_remove ingredients.csv\n"
          ],
          "name": "stdout"
        },
        {
          "output_type": "display_data",
          "data": {
            "text/html": [
              "<div>\n",
              "<style scoped>\n",
              "    .dataframe tbody tr th:only-of-type {\n",
              "        vertical-align: middle;\n",
              "    }\n",
              "\n",
              "    .dataframe tbody tr th {\n",
              "        vertical-align: top;\n",
              "    }\n",
              "\n",
              "    .dataframe thead th {\n",
              "        text-align: right;\n",
              "    }\n",
              "</style>\n",
              "<table border=\"1\" class=\"dataframe\">\n",
              "  <thead>\n",
              "    <tr style=\"text-align: right;\">\n",
              "      <th></th>\n",
              "      <th></th>\n",
              "      <th>0</th>\n",
              "      <th>1</th>\n",
              "      <th>precision</th>\n",
              "      <th>recall</th>\n",
              "      <th>f1-score</th>\n",
              "      <th>accuracy</th>\n",
              "      <th>support</th>\n",
              "      <th>precision_avg</th>\n",
              "      <th>recall_avg</th>\n",
              "      <th>f1-score_avg</th>\n",
              "      <th>note</th>\n",
              "    </tr>\n",
              "    <tr>\n",
              "      <th>name</th>\n",
              "      <th>index</th>\n",
              "      <th></th>\n",
              "      <th></th>\n",
              "      <th></th>\n",
              "      <th></th>\n",
              "      <th></th>\n",
              "      <th></th>\n",
              "      <th></th>\n",
              "      <th></th>\n",
              "      <th></th>\n",
              "      <th></th>\n",
              "      <th></th>\n",
              "    </tr>\n",
              "  </thead>\n",
              "  <tbody>\n",
              "    <tr>\n",
              "      <th rowspan=\"2\" valign=\"top\">RandomForestClassifier: Train</th>\n",
              "      <th>0</th>\n",
              "      <td>9246.0</td>\n",
              "      <td>3403.0</td>\n",
              "      <td>0.85</td>\n",
              "      <td>0.73</td>\n",
              "      <td>0.79</td>\n",
              "      <td>0.87</td>\n",
              "      <td>12649.0</td>\n",
              "      <td>0.86</td>\n",
              "      <td>0.83</td>\n",
              "      <td>0.85</td>\n",
              "      <td>n_estimators=200, criterion='entropy', max_depth=None, min_samples_split=20, ccp_alpha=0.0003</td>\n",
              "    </tr>\n",
              "    <tr>\n",
              "      <th>1</th>\n",
              "      <td>1584.0</td>\n",
              "      <td>23889.0</td>\n",
              "      <td>0.88</td>\n",
              "      <td>0.94</td>\n",
              "      <td>0.91</td>\n",
              "      <td>0.87</td>\n",
              "      <td>25473.0</td>\n",
              "      <td>0.86</td>\n",
              "      <td>0.83</td>\n",
              "      <td>0.85</td>\n",
              "      <td></td>\n",
              "    </tr>\n",
              "    <tr>\n",
              "      <th rowspan=\"2\" valign=\"top\">RandomForestClassifier: Test</th>\n",
              "      <th>0</th>\n",
              "      <td>3787.0</td>\n",
              "      <td>1632.0</td>\n",
              "      <td>0.81</td>\n",
              "      <td>0.70</td>\n",
              "      <td>0.75</td>\n",
              "      <td>0.85</td>\n",
              "      <td>5419.0</td>\n",
              "      <td>0.83</td>\n",
              "      <td>0.81</td>\n",
              "      <td>0.82</td>\n",
              "      <td>n_estimators=200, criterion='entropy', max_depth=None, min_samples_split=20, ccp_alpha=0.0003</td>\n",
              "    </tr>\n",
              "    <tr>\n",
              "      <th>1</th>\n",
              "      <td>894.0</td>\n",
              "      <td>10025.0</td>\n",
              "      <td>0.86</td>\n",
              "      <td>0.92</td>\n",
              "      <td>0.89</td>\n",
              "      <td>0.85</td>\n",
              "      <td>10919.0</td>\n",
              "      <td>0.83</td>\n",
              "      <td>0.81</td>\n",
              "      <td>0.82</td>\n",
              "      <td></td>\n",
              "    </tr>\n",
              "  </tbody>\n",
              "</table>\n",
              "</div>"
            ],
            "text/plain": [
              "                                          0  ...                                                                                           note\n",
              "name                          index          ...                                                                                               \n",
              "RandomForestClassifier: Train 0      9246.0  ...  n_estimators=200, criterion='entropy', max_depth=None, min_samples_split=20, ccp_alpha=0.0003\n",
              "                              1      1584.0  ...                                                                                               \n",
              "RandomForestClassifier: Test  0      3787.0  ...  n_estimators=200, criterion='entropy', max_depth=None, min_samples_split=20, ccp_alpha=0.0003\n",
              "                              1       894.0  ...                                                                                               \n",
              "\n",
              "[4 rows x 11 columns]"
            ]
          },
          "metadata": {
            "tags": []
          }
        },
        {
          "output_type": "stream",
          "text": [
            "Shufersal_result_split based on date.csv\n"
          ],
          "name": "stdout"
        },
        {
          "output_type": "display_data",
          "data": {
            "text/html": [
              "<div>\n",
              "<style scoped>\n",
              "    .dataframe tbody tr th:only-of-type {\n",
              "        vertical-align: middle;\n",
              "    }\n",
              "\n",
              "    .dataframe tbody tr th {\n",
              "        vertical-align: top;\n",
              "    }\n",
              "\n",
              "    .dataframe thead th {\n",
              "        text-align: right;\n",
              "    }\n",
              "</style>\n",
              "<table border=\"1\" class=\"dataframe\">\n",
              "  <thead>\n",
              "    <tr style=\"text-align: right;\">\n",
              "      <th></th>\n",
              "      <th></th>\n",
              "      <th>0</th>\n",
              "      <th>1</th>\n",
              "      <th>precision</th>\n",
              "      <th>recall</th>\n",
              "      <th>f1-score</th>\n",
              "      <th>accuracy</th>\n",
              "      <th>support</th>\n",
              "      <th>precision_avg</th>\n",
              "      <th>recall_avg</th>\n",
              "      <th>f1-score_avg</th>\n",
              "      <th>note</th>\n",
              "    </tr>\n",
              "    <tr>\n",
              "      <th>name</th>\n",
              "      <th>index</th>\n",
              "      <th></th>\n",
              "      <th></th>\n",
              "      <th></th>\n",
              "      <th></th>\n",
              "      <th></th>\n",
              "      <th></th>\n",
              "      <th></th>\n",
              "      <th></th>\n",
              "      <th></th>\n",
              "      <th></th>\n",
              "      <th></th>\n",
              "    </tr>\n",
              "  </thead>\n",
              "  <tbody>\n",
              "    <tr>\n",
              "      <th rowspan=\"2\" valign=\"top\">RandomForestClassifier: Train</th>\n",
              "      <th>0</th>\n",
              "      <td>9240.0</td>\n",
              "      <td>3409.0</td>\n",
              "      <td>0.86</td>\n",
              "      <td>0.73</td>\n",
              "      <td>0.79</td>\n",
              "      <td>0.87</td>\n",
              "      <td>12649.0</td>\n",
              "      <td>0.87</td>\n",
              "      <td>0.84</td>\n",
              "      <td>0.85</td>\n",
              "      <td>n_estimators=200, criterion='entropy', max_depth=None, min_samples_split=20, ccp_alpha=0.0003</td>\n",
              "    </tr>\n",
              "    <tr>\n",
              "      <th>1</th>\n",
              "      <td>1538.0</td>\n",
              "      <td>23935.0</td>\n",
              "      <td>0.88</td>\n",
              "      <td>0.94</td>\n",
              "      <td>0.91</td>\n",
              "      <td>0.87</td>\n",
              "      <td>25473.0</td>\n",
              "      <td>0.87</td>\n",
              "      <td>0.84</td>\n",
              "      <td>0.85</td>\n",
              "      <td></td>\n",
              "    </tr>\n",
              "    <tr>\n",
              "      <th rowspan=\"2\" valign=\"top\">RandomForestClassifier: Test</th>\n",
              "      <th>0</th>\n",
              "      <td>3791.0</td>\n",
              "      <td>1628.0</td>\n",
              "      <td>0.81</td>\n",
              "      <td>0.70</td>\n",
              "      <td>0.75</td>\n",
              "      <td>0.85</td>\n",
              "      <td>5419.0</td>\n",
              "      <td>0.84</td>\n",
              "      <td>0.81</td>\n",
              "      <td>0.82</td>\n",
              "      <td>n_estimators=200, criterion='entropy', max_depth=None, min_samples_split=20, ccp_alpha=0.0003</td>\n",
              "    </tr>\n",
              "    <tr>\n",
              "      <th>1</th>\n",
              "      <td>888.0</td>\n",
              "      <td>10031.0</td>\n",
              "      <td>0.86</td>\n",
              "      <td>0.92</td>\n",
              "      <td>0.89</td>\n",
              "      <td>0.85</td>\n",
              "      <td>10919.0</td>\n",
              "      <td>0.84</td>\n",
              "      <td>0.81</td>\n",
              "      <td>0.82</td>\n",
              "      <td></td>\n",
              "    </tr>\n",
              "  </tbody>\n",
              "</table>\n",
              "</div>"
            ],
            "text/plain": [
              "                                          0  ...                                                                                           note\n",
              "name                          index          ...                                                                                               \n",
              "RandomForestClassifier: Train 0      9240.0  ...  n_estimators=200, criterion='entropy', max_depth=None, min_samples_split=20, ccp_alpha=0.0003\n",
              "                              1      1538.0  ...                                                                                               \n",
              "RandomForestClassifier: Test  0      3791.0  ...  n_estimators=200, criterion='entropy', max_depth=None, min_samples_split=20, ccp_alpha=0.0003\n",
              "                              1       888.0  ...                                                                                               \n",
              "\n",
              "[4 rows x 11 columns]"
            ]
          },
          "metadata": {
            "tags": []
          }
        }
      ]
    },
    {
      "cell_type": "code",
      "metadata": {
        "id": "joy2w_hyLGIy"
      },
      "source": [
        "def read_df_result(id='', full=False):\n",
        "  fname = f'Shufersal_result_{id}.csv'\n",
        "  df_result_t = pd.read_csv(fname, keep_default_na=False)\n",
        "  df_result_t.set_index(['name', 'index'], inplace=True)\n",
        "  pd.set_option(\"max_colwidth\", 100)\n",
        "  if not full:\n",
        "    df_result_t = df_r.loc[['RandomForestClassifier: Train', 'RandomForestClassifier: Test']].copy()\n",
        "  return df_result_t "
      ],
      "execution_count": null,
      "outputs": []
    },
    {
      "cell_type": "markdown",
      "metadata": {
        "id": "RBQIPpoUev6b"
      },
      "source": [
        "# Grid Search for hyperparameters - on best model RandonForest"
      ]
    },
    {
      "cell_type": "code",
      "metadata": {
        "id": "uBsQ6HU4VfEj"
      },
      "source": [
        "GS = False"
      ],
      "execution_count": 156,
      "outputs": []
    },
    {
      "cell_type": "markdown",
      "metadata": {
        "id": "4om1mBJnz3FZ"
      },
      "source": [
        "It run for few hours and then colab disconnected - it was to preform 5880 checks. From the partial results (because Verbose=4) I saw that n_estimators=500, min_samples_split=6, criterion='entropy' gives better results so we implemented them and we can see that indeed precision was improved from 84% to 85% "
      ]
    },
    {
      "cell_type": "code",
      "metadata": {
        "id": "oXdxQNNqgeKT"
      },
      "source": [
        "if GS:\n",
        "  clf_RF = RandomForestClassifier(n_estimators=64)\n",
        "  clf_RF.fit(X_train, y_train)\n",
        "  p(clf_RF.score(X_train, y_train))\n",
        "  p(clf_RF.score(X_test, y_test))"
      ],
      "execution_count": 157,
      "outputs": []
    },
    {
      "cell_type": "markdown",
      "metadata": {
        "id": "tSg_roA5C7Vt"
      },
      "source": [
        "0.9999475368553591\n",
        "\n",
        "0.8557350960949933"
      ]
    },
    {
      "cell_type": "code",
      "metadata": {
        "id": "f5tuV4p2YWiV"
      },
      "source": [
        "def run_GS(model, param_grid, n_jobs=-1, cv=5, verbose=4):\n",
        "  if verbose > 3 and n_jobs == -1:\n",
        "    p('Warning: when n_jobs=-1 no partial results are displayed')\n",
        "    p('Change one of the parameters - Aborted')\n",
        "    return\n",
        "  clf_gs = GridSearchCV(model, param_grid, cv=cv, verbose=verbose, n_jobs=n_jobs)\n",
        "  clf_gs.fit(X_train, y_train)\n",
        "\n",
        "  p('Results')\n",
        "  clf_gs.estimator\n",
        "  p(clf_gs.best_params_)\n",
        "  p(clf_gs.best_estimator_)\n",
        "  p('After')\n",
        "  p(clf_gs.score(X_train, y_train))\n",
        "  p(clf_gs.score(X_test, y_test))"
      ],
      "execution_count": 158,
      "outputs": []
    },
    {
      "cell_type": "code",
      "metadata": {
        "id": "z3BuABtErX98"
      },
      "source": [
        "if GS:\n",
        "  param_grid = { \n",
        "      'max_depth' : [None, 8, 15],\n",
        "      'ccp_alpha': [0.0001, 0.0005, 0.0008, 0.001],\n",
        "      'n_estimators': [100, 200],\n",
        "  #    'max_features': ['auto', 'sqrt', 'log2', 1.0, 0.75, 0.5, 0.25],\n",
        "      'max_leaf_nodes': [None, 4, 10, 20],\n",
        "      'min_samples_split': [2, 10, 20],\n",
        "      'random_state': [1234]\n",
        "  }\n",
        "  model = GradientBoostingClassifier()\n",
        "  run_GS(model, param_grid, n_jobs=1, cv=2, verbose=4)"
      ],
      "execution_count": 159,
      "outputs": []
    },
    {
      "cell_type": "markdown",
      "metadata": {
        "id": "GVkvjzCZDHqi"
      },
      "source": [
        "n_estimators=100, ccp_alpha=0.0001, random_state=1234"
      ]
    },
    {
      "cell_type": "code",
      "metadata": {
        "id": "l0bYwKFvemoO"
      },
      "source": [
        "if GS:\n",
        "  param_grid = { \n",
        "      'max_depth' : [None, 4,5,6,7,8],\n",
        "      'ccp_alpha': [0.01, 0.02, 0.03, 0.1],\n",
        "  #    'n_estimators': [64, 200, 500],\n",
        "  #    'max_features': ['auto', 'sqrt', 'log2', 1.0, 0.75, 0.5, 0.25],\n",
        "      'criterion' :['gini', 'entropy'], \n",
        "  #   'max_leaf_nodes': [None, 4, 10, 20],\n",
        "      'min_samples_split': [20, 100, 500]#[2, 4, 6, 8, 10, 12, 14]\n",
        "  }\n",
        "  model = RandomForestClassifier()\n",
        "  run_GS(model, param_grid, n_jobs=-1, cv=2, verbose=3)"
      ],
      "execution_count": 160,
      "outputs": []
    },
    {
      "cell_type": "code",
      "metadata": {
        "id": "mRABcmGFXxDt"
      },
      "source": [
        "if GS:\n",
        "  param_grid = { \n",
        "      'max_depth' : [None, 4,8,10],\n",
        "      'ccp_alpha': [0.005, 0.01, 0.015],\n",
        "  #    'n_estimators': [64, 200, 500],\n",
        "  #    'max_features': ['auto', 'sqrt', 'log2', 1.0, 0.75, 0.5, 0.25],\n",
        "      'criterion' :['entropy'], \n",
        "  #   'max_leaf_nodes': [None, 4, 10, 20],\n",
        "      'min_samples_split': [10, 20, 30]\n",
        "  }\n",
        "\n",
        "  model = RandomForestClassifier()\n",
        "  run_GS(model, param_grid, n_jobs=-1, cv=2, verbose=3)"
      ],
      "execution_count": 161,
      "outputs": []
    },
    {
      "cell_type": "markdown",
      "metadata": {
        "id": "ER6xz_XnXOCd"
      },
      "source": [
        "> output:\n",
        "\n",
        "Fitting 5 folds for each of 144 candidates, totalling 720 fits\n",
        "\n",
        "{'ccp_alpha': 0.01, 'criterion': 'entropy', 'max_depth': 8, 'min_samples_split': 20}"
      ]
    },
    {
      "cell_type": "code",
      "metadata": {
        "id": "DtL2eW1WEAIQ"
      },
      "source": [
        "if GS:\n",
        "  param_grid = { \n",
        "      'max_depth' : [None, 4,8,10],\n",
        "      'ccp_alpha': [0.005, 0.01, 0.015],\n",
        "  #    'n_estimators': [64, 200, 500],\n",
        "  #    'max_features': ['auto', 'sqrt', 'log2', 1.0, 0.75, 0.5, 0.25],\n",
        "      'criterion' :['entropy'], \n",
        "  #   'max_leaf_nodes': [None, 4, 10, 20],\n",
        "      'min_samples_split': [10, 20, 30]\n",
        "  }\n",
        "\n",
        "  model = RandomForestClassifier()\n",
        "  run_GS(model, param_grid, n_jobs=-1, cv=2, verbose=3)"
      ],
      "execution_count": 162,
      "outputs": []
    },
    {
      "cell_type": "markdown",
      "metadata": {
        "id": "qW1yQgqEYzM2"
      },
      "source": [
        "> Output\n",
        "\n",
        "Fitting 5 folds for each of 36 candidates, totalling 180 fits\n",
        "\n",
        "{'ccp_alpha': 0.005, 'criterion': 'entropy', 'max_depth': None, 'min_samples_split': 20}\n",
        "\n",
        "Train: 0.7725460364094224\n",
        "\n",
        "Test: 0.7751866813563472"
      ]
    },
    {
      "cell_type": "code",
      "metadata": {
        "id": "MbYj8XELIe_d"
      },
      "source": [
        "if GS:\n",
        "  param_grid = { \n",
        "      'max_depth' : [None],\n",
        "      'ccp_alpha': [0.001, 0.003, 0.005],\n",
        "      'criterion' :['entropy'], \n",
        "      'min_samples_split': [20],\n",
        "      'n_estimators': [64, 200, 500],\n",
        "  }\n",
        "  model = RandomForestClassifier()\n",
        "  run_GS(model, param_grid, n_jobs=-1, cv=2, verbose=3)"
      ],
      "execution_count": 163,
      "outputs": []
    },
    {
      "cell_type": "markdown",
      "metadata": {
        "id": "BsdSvQroZNKO"
      },
      "source": [
        "> Output\n",
        "\n",
        "Fitting 5 folds for each of 9 candidates, totalling 45 fits\n",
        "\n",
        "{'ccp_alpha': 0.001, 'criterion': 'entropy', 'max_depth': None, 'min_samples_split': 20, 'n_estimators': 200}\n",
        "\n",
        "Train: 0.8159592885997586\n",
        "\n",
        "Test: 0.8142367486840495"
      ]
    },
    {
      "cell_type": "code",
      "metadata": {
        "id": "cMPONf6oPxbe"
      },
      "source": [
        "if GS:\n",
        "  param_grid = { \n",
        "      'max_depth' : [None],\n",
        "      'ccp_alpha': [0.0001, 0.0005, 0.0008, 0.001],\n",
        "      'criterion' :['entropy'], \n",
        "      'min_samples_split': [20],\n",
        "      'n_estimators': [200, 300],\n",
        "  }\n",
        "  model = RandomForestClassifier()\n",
        "  run_GS(model, param_grid, n_jobs=-1, cv=2, verbose=3)"
      ],
      "execution_count": 164,
      "outputs": []
    },
    {
      "cell_type": "markdown",
      "metadata": {
        "id": "Hflh-hmOaM7U"
      },
      "source": [
        "> Output\n",
        "\n",
        "Fitting 5 folds for each of 8 candidates, totalling 40 fits (15 mins)\n",
        "\n",
        "{'ccp_alpha': 0.0001, 'criterion': 'entropy', 'max_depth': None, 'min_samples_split': 20, 'n_estimators': 200}\n",
        "\n",
        "Train: 0.921698756623472\n",
        "\n",
        "Test: 0.8595299302240176"
      ]
    },
    {
      "cell_type": "code",
      "metadata": {
        "id": "oLsWGIx3WrvG"
      },
      "source": [
        "if GS:\n",
        "  clf_RF = RandomForestClassifier(n_estimators=200, criterion='entropy', max_depth=None, min_samples_split=20, ccp_alpha=0.0005)\n",
        "  clf_RF.fit(X_train, y_train)\n",
        "  p(clf_RF.score(X_train, y_train))\n",
        "  p(clf_RF.score(X_test, y_test))"
      ],
      "execution_count": 165,
      "outputs": []
    },
    {
      "cell_type": "code",
      "metadata": {
        "colab": {
          "base_uri": "https://localhost:8080/"
        },
        "id": "zDC-IKvyZb4I",
        "outputId": "8ed4fe34-55ff-428a-b11e-21e3d1347887"
      },
      "source": [
        "for i in range(11):\n",
        "  ccp_alpha = 0.0001 + i / 10000\n",
        "  clf_RF = RandomForestClassifier(n_estimators=200, criterion='entropy', max_depth=None, min_samples_split=20, ccp_alpha=ccp_alpha)\n",
        "  p(ccp_alpha)\n",
        "  clf_RF.fit(X_train, y_train)\n",
        "  p(clf_RF.score(X_train, y_train))\n",
        "  p(clf_RF.score(X_test, y_test))"
      ],
      "execution_count": 166,
      "outputs": [
        {
          "output_type": "stream",
          "text": [
            "0.0001\n",
            "0.92099050417082\n",
            "0.8581221691761538\n",
            "0.0002\n",
            "0.8918734588951261\n",
            "0.8532868160117517\n",
            "0.00030000000000000003\n",
            "0.8697340118566707\n",
            "0.8465540457828375\n",
            "0.00039999999999999996\n",
            "0.8531294265778291\n",
            "0.8393316195372751\n",
            "0.0005\n",
            "0.843397513246944\n",
            "0.8332109193291712\n",
            "0.0006000000000000001\n",
            "0.835554273123131\n",
            "0.8291100501897417\n",
            "0.0007\n",
            "0.8297308640679922\n",
            "0.824764353041988\n",
            "0.0008\n",
            "0.8247993284717486\n",
            "0.8212755539233688\n",
            "0.0009000000000000001\n",
            "0.820576045328157\n",
            "0.8159505447423185\n",
            "0.001\n",
            "0.8152510361471067\n",
            "0.8126453666299425\n",
            "0.0011\n",
            "0.8130475840721892\n",
            "0.810258293548782\n"
          ],
          "name": "stdout"
        }
      ]
    },
    {
      "cell_type": "markdown",
      "metadata": {
        "id": "W6tvvVZVRJz4"
      },
      "source": [
        "# Cross validation"
      ]
    },
    {
      "cell_type": "code",
      "metadata": {
        "id": "0Z2obmckEf3k"
      },
      "source": [
        "CV = False\n",
        "if CV:\n",
        "  k = 7\n",
        "  scores = cross_val_score(clf_RF, X_train, y_train, cv=k)\n",
        "  p(\"\\nscores : \" + (k * \"{:.3f}, \").format(*scores))\n",
        "  p(\"mean : {:.3f} std : {:.3f} \".format(scores.mean(), scores.std()))"
      ],
      "execution_count": 167,
      "outputs": []
    },
    {
      "cell_type": "markdown",
      "metadata": {
        "id": "RAzcuFHh6s4a"
      },
      "source": [
        "scores : 0.839, 0.848, 0.842, 0.848, 0.837, 0.843, 0.843, \n",
        "mean : 0.843 std : 0.004 "
      ]
    },
    {
      "cell_type": "markdown",
      "metadata": {
        "id": "Y6u7kMudO1IA"
      },
      "source": [
        "# TODO:"
      ]
    },
    {
      "cell_type": "markdown",
      "metadata": {
        "id": "aAGxvaPEO3jo"
      },
      "source": [
        "## run a model with the important feature alone to show is it a must or just necessary (if the drop in precision is large it is not a must)?"
      ]
    },
    {
      "cell_type": "markdown",
      "metadata": {
        "id": "Uos9bzosB7dU"
      },
      "source": [
        "## Bagging (Bootstrap Aggregation)\n",
        "\n",
        "> One classifier (\"base model\") and try to fit many different subsamples of the data\n",
        "\n",
        "> The hyper-parameters \"max_samples\" and \"max_features\" control the size of the subsets\n",
        "\n",
        "> The hyper-parameters \"bootstrap\" and \"bootstrap_features\" control wether the samples and the features are drawn with (or without) replacement"
      ]
    },
    {
      "cell_type": "code",
      "metadata": {
        "id": "w2w3COM6AL52"
      },
      "source": [
        "clf_base = DecisionTreeClassifier(max_depth=5)"
      ],
      "execution_count": 168,
      "outputs": []
    },
    {
      "cell_type": "code",
      "metadata": {
        "id": "nSPZOa5kCW62",
        "colab": {
          "base_uri": "https://localhost:8080/"
        },
        "outputId": "0f850ba2-2c21-4626-b5a5-40073075e121"
      },
      "source": [
        "clf_bagging = BaggingClassifier(base_estimator=clf_base, n_estimators=50)\n",
        "clf_bagging.fit(X_train, y_train)\n",
        "\n",
        "clf_bagging.score(X_train, y_train)\n",
        "clf_bagging.score(X_test, y_test)"
      ],
      "execution_count": 169,
      "outputs": [
        {
          "output_type": "execute_result",
          "data": {
            "text/plain": [
              "0.7853470437017995"
            ]
          },
          "metadata": {
            "tags": []
          },
          "execution_count": 169
        }
      ]
    },
    {
      "cell_type": "markdown",
      "metadata": {
        "id": "_e8SpyWLhzKl"
      },
      "source": [
        "## Correlation"
      ]
    }
  ]
}